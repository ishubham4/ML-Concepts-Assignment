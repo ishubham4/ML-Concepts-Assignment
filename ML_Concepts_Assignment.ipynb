{
 "cells": [
  {
   "cell_type": "code",
   "execution_count": 306,
   "id": "5c6a9768-c6a5-4541-b58a-e734521e79e4",
   "metadata": {},
   "outputs": [
    {
     "name": "stdout",
     "output_type": "stream",
     "text": [
      "Requirement already satisfied: lxml in c:\\users\\21213\\appdata\\local\\programs\\python\\python38\\lib\\site-packages (4.9.2)\n"
     ]
    }
   ],
   "source": [
    "from selenium.webdriver.common.by import By\n",
    "from selenium import webdriver\n",
    "from selenium.webdriver.chrome.options import Options\n",
    "from time import sleep\n",
    "from selenium.webdriver.common.by import By\n",
    "from selenium.webdriver.support.ui import WebDriverWait\n",
    "from selenium.webdriver.support import expected_conditions as EC\n",
    "from selenium.common.exceptions import TimeoutException, WebDriverException\n",
    "import pandas as pd\n",
    "!pip install lxml\n",
    "import numpy as np"
   ]
  },
  {
   "cell_type": "code",
   "execution_count": 307,
   "id": "d8e430be-8bcc-4d9f-805f-8a190852e7e8",
   "metadata": {},
   "outputs": [],
   "source": [
    "driver = webdriver.Chrome()"
   ]
  },
  {
   "cell_type": "code",
   "execution_count": 308,
   "id": "1a0b43b2-b964-4ac6-813d-9b8fda97ca72",
   "metadata": {},
   "outputs": [],
   "source": [
    "driver.get(\"https://collegedunia.com/usa/college/1090-harvard-university-cambridge\")"
   ]
  },
  {
   "cell_type": "code",
   "execution_count": 309,
   "id": "18ef3bcc-4704-45a8-931c-cf51b9868fae",
   "metadata": {},
   "outputs": [],
   "source": [
    "courses=[]\n",
    "data=[]"
   ]
  },
  {
   "cell_type": "code",
   "execution_count": null,
   "id": "ad9d92d9-5c7f-444f-bee0-13e0bc3b080d",
   "metadata": {},
   "outputs": [],
   "source": [
    "#Note:\n",
    "# Here, I have created different fucntions to scrape all the attributes from the given link and further went on to combined those dataframe into one"
   ]
  },
  {
   "cell_type": "code",
   "execution_count": 310,
   "id": "ed33e353-be5e-4950-8c03-c7f1aa9c5922",
   "metadata": {},
   "outputs": [],
   "source": [
    "#Courses & Fees function: This function will scrape all the required deatils from courses and fees tab\n",
    "def courses_fees(): \n",
    "    for info in driver.find_elements(By.XPATH, '//*[@class=\"jsx-3847118977 jsx-2133140133 card border-0 course-card page_center_body_listing bg-white py-0 px-2 mx-0 my-2 avatar-container\"]'):\n",
    "        courses_name= info.find_element(By.XPATH, './/div[@class=\"jsx-3847118977 jsx-2133140133 card-head-left\"]/h2').text\n",
    "        duration = info.find_element(By.XPATH, './/div[1]/span[@class=\"jsx-3847118977 jsx-2133140133\"]').text\n",
    "        type_of_education = info.find_element(By.XPATH, './/div[2]/span[@class=\"jsx-3847118977 jsx-2133140133\"]').text\n",
    "        fees = info.find_element(By.XPATH, './/div[@class=\"jsx-3847118977 jsx-2133140133 fees-container \"]/span').text\n",
    "        exam_score = info.find_element(By.XPATH, './/div[@class=\"jsx-3847118977 jsx-2133140133 card-info py-1 px-0 d-flex justify-content-between align-items-center\"]').text\n",
    "        language = info.find_element(By.XPATH, './/div[3]/span[@class=\"jsx-3847118977 jsx-2133140133\"]').text\n",
    "        mode_of_course = info.find_element(By.XPATH,'.//div[4]/span[@class=\"jsx-3847118977 jsx-2133140133 text-capitalize\"]').text\n",
    "        link = info.find_element(By.XPATH, './/div[@class=\"jsx-3847118977 jsx-2133140133 card-head-left\"]/h2/a[@class=\"jsx-3847118977 jsx-2133140133\"]').get_attribute('href')\n",
    "        courses.append([courses_name,duration,type_of_education,fees,exam_score,language,mode_of_course,link]) #here we are appending the extracted data in empty list named courses"
   ]
  },
  {
   "cell_type": "code",
   "execution_count": 311,
   "id": "bbe8a479-0506-4fef-88df-67b55cfbf742",
   "metadata": {},
   "outputs": [],
   "source": [
    "#admissions function: this function will scrape all the required details from admissions tab\n",
    "def admissions():\n",
    "    #scarping all the tables present in admission tab\n",
    "    admission_table1_df = pd.read_html(driver.find_element(By.XPATH, '//*[@id=\"__next\"]/div[2]/section/div/div[1]/div[3]/div[1]/div[1]/div/div/div/div[2]/div/div/div/div[2]/div[2]/div/table').get_attribute('outerHTML'))[0]\n",
    "    admission_table2_df = pd.read_html(driver.find_element(By.XPATH, '//*[@id=\"__next\"]/div[2]/section/div/div[1]/div[3]/div[1]/div[1]/div/div/div/div[2]/div/div/div/div[3]/div[2]/div/table').get_attribute('outerHTML'))[0]\n",
    "    admission_table3_df = pd.read_html(driver.find_element(By.XPATH, '//*[@id=\"__next\"]/div[2]/section/div/div[1]/div[3]/div[1]/div[1]/div/div/div/div[2]/div/div/div/div[5]/div/table').get_attribute('outerHTML'))[0]\n",
    "    admission_data = pd.concat([admission_table1_df,admission_table2_df,admission_table3_df], axis=\"columns\")\n",
    "    # Concatenating all the tables extracted from admissions tab into one dataframe\n",
    "    return admission_data"
   ]
  },
  {
   "cell_type": "code",
   "execution_count": 312,
   "id": "d4e848e7-0859-4657-bca7-80f163b746c2",
   "metadata": {},
   "outputs": [],
   "source": [
    "def rankings():\n",
    "    #Scrapping all the tables present in ranking tab\n",
    "    rankingtable1_df = pd.read_html(driver.find_element(By.XPATH, '//*[@id=\"__next\"]/div[2]/section/div/div[1]/div[3]/div[1]/div[1]/div/div/div[2]/div/div/div[2]/table').get_attribute('outerHTML'))[0]\n",
    "    rankingtable1_df.drop(['2023'], axis=1,inplace=True) # Dropping 2023 column \n",
    "    rankingtable2_df = pd.read_html(driver.find_element(By.XPATH, '//*[@id=\"__next\"]/div[2]/section/div/div[1]/div[3]/div[1]/div[1]/div/div/div[2]/div/div/div[5]/table').get_attribute('outerHTML'))[0]\n",
    "    rankingtable2_df.drop(['2023'], axis=1,inplace=True) # Dropping 2023 column \n",
    "    rankingtable3_df = pd.read_html(driver.find_element(By.XPATH, '//*[@id=\"__next\"]/div[2]/section/div/div[1]/div[3]/div[1]/div[1]/div/div/div[2]/div/div/div[8]/table').get_attribute('outerHTML'))[0]\n",
    "    rankingtable3_df.drop(['Unnamed: 6'], axis=1,inplace=True) # Dropping Unamed column\n",
    "    rankingtable4_df = pd.read_html(driver.find_element(By.XPATH, '//*[@id=\"__next\"]/div[2]/section/div/div[1]/div[3]/div[1]/div[1]/div/div/div[2]/div/div/div[11]/table').get_attribute('outerHTML'))[0]\n",
    "    rankingtable5_df = pd.read_html(driver.find_element(By.XPATH, '//*[@id=\"__next\"]/div[2]/section/div/div[1]/div[3]/div[1]/div[1]/div/div/div[2]/div/div/div[14]/table').get_attribute('outerHTML'))[0]\n",
    "    rankingtable6_df = pd.read_html(driver.find_element(By.XPATH, '//*[@id=\"__next\"]/div[2]/section/div/div[1]/div[3]/div[1]/div[1]/div/div/div[2]/div/div/div[17]/table').get_attribute('outerHTML'))[0]\n",
    "    rankingtable7_df = pd.read_html(driver.find_element(By.XPATH, '//*[@id=\"__next\"]/div[2]/section/div/div[1]/div[3]/div[1]/div[1]/div/div/div[2]/div/div/div[20]/table').get_attribute('outerHTML'))[0]\n",
    "    rankingtable8_df = pd.read_html(driver.find_element(By.XPATH, '//*[@id=\"__next\"]/div[2]/section/div/div[1]/div[3]/div[1]/div[1]/div/div/div[2]/div/div/div[23]/table').get_attribute('outerHTML'))[0]\n",
    "    rankingtable8_df.drop(['2023'], axis=1,inplace=True)  # Dropping 2023 column\n",
    "    ranking_data = pd.concat([rankingtable1_df,rankingtable2_df,rankingtable3_df,rankingtable4_df,rankingtable5_df,rankingtable6_df,rankingtable7_df,rankingtable8_df]) # Concatinating all the table into one dataframe\n",
    "    ranking_data.reset_index(drop=True, inplace=True) \n",
    "    return ranking_data\n",
    "\n",
    "    \n",
    "    \n",
    "    \n",
    "    "
   ]
  },
  {
   "cell_type": "code",
   "execution_count": 313,
   "id": "02563610-3296-4fa0-bf00-3aa2c5f0ff7c",
   "metadata": {},
   "outputs": [],
   "source": [
    "def scholarships():\n",
    "    #Scrapping all the tables present in Scholarships tab\n",
    "    scholarships_table_df = pd.read_html(driver.find_element(By.XPATH, '//*[@id=\"__next\"]/div[2]/section/div/div[1]/div[3]/div[1]/div[1]/div/div[2]/div/div/div[1]/table').get_attribute('outerHTML'))[0]\n",
    "    return scholarships_table_df\n",
    "    "
   ]
  },
  {
   "cell_type": "code",
   "execution_count": 314,
   "id": "0deb13a9-7b64-4ce7-a8db-0d2eb613a2a0",
   "metadata": {},
   "outputs": [],
   "source": [
    "university_name=driver.find_element(By.XPATH, '//h1[@class=\"jsx-4139948154 text-white font-weight-bolder mt-0 mb-1 text-lg\"]').text #Getting the university name\n",
    "location= driver.find_element(By.XPATH, '//div[@class=\"jsx-4139948154\"]/span[@class=\"jsx-4139948154 d-block text-md text-capitalize\"]').text\n",
    "school_type = driver.find_element(By.XPATH , '//*[@id=\"__next\"]/div[2]/header/div[2]/div/div[1]/div[2]/div[2]/div/span[1]' ).text\n",
    "established_year = driver.find_element(By.XPATH,'//*[@id=\"__next\"]/div[2]/header/div[2]/div/div[1]/div[2]/div[3]/div/span[1]').text\n",
    "enrollment = driver.find_element(By.XPATH,'//*[@id=\"__next\"]/div[2]/header/div[2]/div/div[1]/div[2]/div[4]/div/span[1]').text\n",
    "accredation= driver.find_element(By.XPATH, '//*[@id=\"__next\"]/div[2]/header/div[2]/div/div[1]/div[2]/div[5]/div').text\n",
    "data.append([university_name,location,school_type,established_year,enrollment,accredation])\n",
    "course = WebDriverWait(driver, 20).until(\n",
    "    EC.presence_of_element_located((By.XPATH, '//*[text()=\"Courses & Fees\"]')))\n",
    "course.click()  # Accesing the Courses & Fees tab\n",
    "sleep(6)\n",
    "courses_fees() # calling the courses_fees function\n",
    "cancel = WebDriverWait(driver, 20).until(\n",
    "    EC.presence_of_element_located((By.XPATH, '//*[@id=\"__next\"]/div[4]/div/div/div/div[2]/div[1]')))\n",
    "cancel.click()  # This code here is to cancel the pop-up which occurs when the websites get fully loaded\n",
    "admission = WebDriverWait(driver, 20).until(\n",
    "    EC.presence_of_element_located((By.XPATH, '//*[@id=\"__next\"]/div[2]/div/nav/div/ul/li[3]/a')))\n",
    "admission.click()  # Accesing the Admission tab\n",
    "sleep(6)\n",
    "Admission_data = admissions() # calling the admissions function\n",
    "sleep(3)\n",
    "ranking = WebDriverWait(driver, 20).until(\n",
    "    EC.presence_of_element_located((By.XPATH, '//*[@id=\"__next\"]/div[2]/div/nav/div/ul/li[4]/a')))\n",
    "ranking.click()  # Accessing the Ranking tab\n",
    "sleep(2)\n",
    "Ranking_data = rankings() # Calling the rankings function\n",
    "sleep(3)\n",
    "scholarship = WebDriverWait(driver, 20).until(\n",
    "    EC.presence_of_element_located((By.XPATH, '//*[@id=\"__next\"]/div[2]/div/nav/div/ul/li[8]/a')))\n",
    "scholarship.click() # Acessing the Scholarship tab\n",
    "sleep(4)\n",
    "Scholarships_data =scholarships() # Calling the scholarships fucntion\n",
    "driver.quit()\n",
    "    \n",
    "\n",
    "  \n",
    "    "
   ]
  },
  {
   "cell_type": "code",
   "execution_count": 316,
   "id": "ff408bef-1ec6-4855-8585-7d9af1270652",
   "metadata": {},
   "outputs": [
    {
     "data": {
      "text/html": [
       "<div>\n",
       "<style scoped>\n",
       "    .dataframe tbody tr th:only-of-type {\n",
       "        vertical-align: middle;\n",
       "    }\n",
       "\n",
       "    .dataframe tbody tr th {\n",
       "        vertical-align: top;\n",
       "    }\n",
       "\n",
       "    .dataframe thead th {\n",
       "        text-align: right;\n",
       "    }\n",
       "</style>\n",
       "<table border=\"1\" class=\"dataframe\">\n",
       "  <thead>\n",
       "    <tr style=\"text-align: right;\">\n",
       "      <th></th>\n",
       "      <th>University_name</th>\n",
       "      <th>Location</th>\n",
       "      <th>School_type</th>\n",
       "      <th>Established_year</th>\n",
       "      <th>Enrollment</th>\n",
       "      <th>Accerdation</th>\n",
       "    </tr>\n",
       "  </thead>\n",
       "  <tbody>\n",
       "    <tr>\n",
       "      <th>0</th>\n",
       "      <td>Harvard University Courses, Rankings, Fees, Ad...</td>\n",
       "      <td>Cambridge, Massachusetts</td>\n",
       "      <td>University</td>\n",
       "      <td>Estd1636</td>\n",
       "      <td>22947</td>\n",
       "      <td>CEPH, NEASC</td>\n",
       "    </tr>\n",
       "  </tbody>\n",
       "</table>\n",
       "</div>"
      ],
      "text/plain": [
       "                                     University_name  \\\n",
       "0  Harvard University Courses, Rankings, Fees, Ad...   \n",
       "\n",
       "                   Location School_type Established_year Enrollment  \\\n",
       "0  Cambridge, Massachusetts  University         Estd1636      22947   \n",
       "\n",
       "   Accerdation  \n",
       "0  CEPH, NEASC  "
      ]
     },
     "execution_count": 316,
     "metadata": {},
     "output_type": "execute_result"
    }
   ],
   "source": [
    "df1 = pd.DataFrame(data, columns=['University_name','Location','School_type','Established_year','Enrollment','Accerdation'])\n",
    "\n",
    "df1.head()"
   ]
  },
  {
   "cell_type": "code",
   "execution_count": 317,
   "id": "fd421e1c-d664-4ce9-90ee-8f349cff687e",
   "metadata": {},
   "outputs": [],
   "source": [
    "courses_df = pd.DataFrame(courses,columns=['Courses_name','Duration','Type_of_education','Fees','Exam_score','Language','Mode_of_course','Link'])\n",
    "                        "
   ]
  },
  {
   "cell_type": "code",
   "execution_count": 318,
   "id": "abbf353e-264a-4aa5-bf07-d286fc458d78",
   "metadata": {},
   "outputs": [],
   "source": [
    "combined_data = pd.concat([df1,courses_df,Admission_data,Ranking_data,Scholarships_data], axis=\"columns\")"
   ]
  },
  {
   "cell_type": "code",
   "execution_count": 319,
   "id": "d89661f4-d374-4f7f-989a-513be47102c2",
   "metadata": {},
   "outputs": [
    {
     "name": "stdout",
     "output_type": "stream",
     "text": [
      "                                       University_name  \\\n",
      "0    Harvard University Courses, Rankings, Fees, Ad...   \n",
      "1                                                  NaN   \n",
      "2                                                  NaN   \n",
      "3                                                  NaN   \n",
      "4                                                  NaN   \n",
      "..                                                 ...   \n",
      "97                                                 NaN   \n",
      "98                                                 NaN   \n",
      "99                                                 NaN   \n",
      "100                                                NaN   \n",
      "101                                                NaN   \n",
      "\n",
      "                     Location School_type Established_year Enrollment  \\\n",
      "0    Cambridge, Massachusetts  University         Estd1636      22947   \n",
      "1                         NaN         NaN              NaN        NaN   \n",
      "2                         NaN         NaN              NaN        NaN   \n",
      "3                         NaN         NaN              NaN        NaN   \n",
      "4                         NaN         NaN              NaN        NaN   \n",
      "..                        ...         ...              ...        ...   \n",
      "97                        NaN         NaN              NaN        NaN   \n",
      "98                        NaN         NaN              NaN        NaN   \n",
      "99                        NaN         NaN              NaN        NaN   \n",
      "100                       NaN         NaN              NaN        NaN   \n",
      "101                       NaN         NaN              NaN        NaN   \n",
      "\n",
      "     Accerdation                                       Courses_name Duration  \\\n",
      "0    CEPH, NEASC          Master of Business Administration [M.B.A]  2 years   \n",
      "1            NaN               Master of Science [M.S] Data Science  2 years   \n",
      "2            NaN  Master of Business Administration [M.B.A] Finance  2 years   \n",
      "3            NaN  Master of Engineering [M.Eng] Computational Sc...  2 years   \n",
      "4            NaN  Master of Science [M.S] Liberal Arts - Softwar...  2 years   \n",
      "..           ...                                                ...      ...   \n",
      "97           NaN  Bachelor of Arts [B.A] Women, Gender, and Sexu...  4 years   \n",
      "98           NaN      Bachelor of Arts [B.A] History and Literature  4 years   \n",
      "99           NaN  Bachelor of Arts [B.A] History of Art and Arch...  4 years   \n",
      "100          NaN                                Dental Medical[DMD]  4 years   \n",
      "101          NaN  Doctor of Medicine[MD]/ Master of Public Healt...  3 years   \n",
      "\n",
      "     Type_of_education           Fees  ...  Master of Public Health  \\\n",
      "0            On Campus    INR 67 L/Yr  ...  School of Public Health   \n",
      "1     Co Op, On Campus  INR 50.7 L/Yr  ...         December 1, 2023   \n",
      "2            On Campus  INR 50.7 L/Yr  ...                   50 USD   \n",
      "3            On Campus  INR 50.7 L/Yr  ...                        3   \n",
      "4    Online, On Campus  INR 50.7 L/Yr  ...                        -   \n",
      "..                 ...            ...  ...                      ...   \n",
      "97           On Campus    INR 50 L/Yr  ...                      NaN   \n",
      "98           On Campus    INR 50 L/Yr  ...                      NaN   \n",
      "99           On Campus    INR 50 L/Yr  ...                      NaN   \n",
      "100          On Campus  INR 60.5 L/Yr  ...                      NaN   \n",
      "101          On Campus  INR 15.4 L/Yr  ...                      NaN   \n",
      "\n",
      "                                           Ranked By 2018 2019 2020 2021 2022  \\\n",
      "0    ARWU (Shanghai Ranking) - Universities Rankings    1  1.0  1.0    1  1.0   \n",
      "1                      QS - World University Ranking    3  3.0  3.0    3  5.0   \n",
      "2                           THE - University Ranking    6  6.0  7.0    3  2.0   \n",
      "3                      US News - Global Universities    1  1.0  1.0    1  1.0   \n",
      "4              US News - National University Ranking    2  2.0  2.0    2  2.0   \n",
      "..                                               ...  ...  ...  ...  ...  ...   \n",
      "97                                               NaN  NaN  NaN  NaN  NaN  NaN   \n",
      "98                                               NaN  NaN  NaN  NaN  NaN  NaN   \n",
      "99                                               NaN  NaN  NaN  NaN  NaN  NaN   \n",
      "100                                              NaN  NaN  NaN  NaN  NaN  NaN   \n",
      "101                                              NaN  NaN  NaN  NaN  NaN  NaN   \n",
      "\n",
      "                                          Scholarships  \\\n",
      "0                    Boustany MBA Harvard Scholarships   \n",
      "1                       Horace W. Goldsmith Fellowship   \n",
      "2        The Robert S. Kaplan Life Sciences Fellowship   \n",
      "3                                   HGSE Financial Aid   \n",
      "4    Harvard John A. Paulson School of Engineering ...   \n",
      "..                                                 ...   \n",
      "97                                                 NaN   \n",
      "98                                                 NaN   \n",
      "99                                                 NaN   \n",
      "100                                                NaN   \n",
      "101                                                NaN   \n",
      "\n",
      "                                  Eligibility Criteria  \\\n",
      "0    Only MBA students can apply,  Excellent academ...   \n",
      "1    Full time leadership roles in non-profit or pu...   \n",
      "2    Students planning for careers across -related ...   \n",
      "3    Admission Application to the Harvard Graduate ...   \n",
      "4    All PhD students  ​Independent grants and fell...   \n",
      "..                                                 ...   \n",
      "97                                                 NaN   \n",
      "98                                                 NaN   \n",
      "99                                                 NaN   \n",
      "100                                                NaN   \n",
      "101                                                NaN   \n",
      "\n",
      "                                   Award Amount in USD  \n",
      "0           51,100 USD per annum, 102,200 USD in total  \n",
      "1                                           10,000 USD  \n",
      "2            20,000 USD in total, 10,000 USD each year  \n",
      "3    Tuition and cost, student loans, work while st...  \n",
      "4    Full financial support for PhD students includ...  \n",
      "..                                                 ...  \n",
      "97                                                 NaN  \n",
      "98                                                 NaN  \n",
      "99                                                 NaN  \n",
      "100                                                NaN  \n",
      "101                                                NaN  \n",
      "\n",
      "[102 rows x 33 columns]\n"
     ]
    }
   ],
   "source": [
    "print(combined_data)"
   ]
  },
  {
   "cell_type": "code",
   "execution_count": 320,
   "id": "fda0b388-4d9b-4e22-8a55-af31545f6fad",
   "metadata": {},
   "outputs": [
    {
     "name": "stdout",
     "output_type": "stream",
     "text": [
      "Requirement already satisfied: openpyxl in c:\\users\\21213\\appdata\\local\\programs\\python\\python38\\lib\\site-packages (3.0.10)Note: you may need to restart the kernel to use updated packages.\n",
      "\n",
      "Requirement already satisfied: et-xmlfile in c:\\users\\21213\\appdata\\local\\programs\\python\\python38\\lib\\site-packages (from openpyxl) (1.1.0)\n"
     ]
    }
   ],
   "source": [
    "pip install openpyxl"
   ]
  },
  {
   "cell_type": "code",
   "execution_count": 322,
   "id": "320da698-500b-4a7b-a417-82fa34b2f50c",
   "metadata": {},
   "outputs": [],
   "source": [
    "combined_data.to_excel(\"Final.xlsx\")"
   ]
  },
  {
   "cell_type": "code",
   "execution_count": null,
   "id": "71d64644-b994-42ee-a142-12e635077113",
   "metadata": {},
   "outputs": [],
   "source": [
    "# Note: You can see multiple nulls values here, the reason you see multiple null value is beacuse, I have concatenated all the dataframe/attributes scrape from different tabs to one that's the reason you see multple null values"
   ]
  },
  {
   "cell_type": "code",
   "execution_count": 323,
   "id": "52877020-10a7-48bc-8b7d-2256c3fef956",
   "metadata": {},
   "outputs": [
    {
     "name": "stdout",
     "output_type": "stream",
     "text": [
      "{\"University_name\":{\"0\":\"Harvard University Courses, Rankings, Fees, Admissions 2023, Scholarships\",\"1\":null,\"2\":null,\"3\":null,\"4\":null,\"5\":null,\"6\":null,\"7\":null,\"8\":null,\"9\":null,\"10\":null,\"11\":null,\"12\":null,\"13\":null,\"14\":null,\"15\":null,\"16\":null,\"17\":null,\"18\":null,\"19\":null,\"20\":null,\"21\":null,\"22\":null,\"23\":null,\"24\":null,\"25\":null,\"26\":null,\"27\":null,\"28\":null,\"29\":null,\"30\":null,\"31\":null,\"32\":null,\"33\":null,\"34\":null,\"35\":null,\"36\":null,\"37\":null,\"38\":null,\"39\":null,\"40\":null,\"41\":null,\"42\":null,\"43\":null,\"44\":null,\"45\":null,\"46\":null,\"47\":null,\"48\":null,\"49\":null,\"50\":null,\"51\":null,\"52\":null,\"53\":null,\"54\":null,\"55\":null,\"56\":null,\"57\":null,\"58\":null,\"59\":null,\"60\":null,\"61\":null,\"62\":null,\"63\":null,\"64\":null,\"65\":null,\"66\":null,\"67\":null,\"68\":null,\"69\":null,\"70\":null,\"71\":null,\"72\":null,\"73\":null,\"74\":null,\"75\":null,\"76\":null,\"77\":null,\"78\":null,\"79\":null,\"80\":null,\"81\":null,\"82\":null,\"83\":null,\"84\":null,\"85\":null,\"86\":null,\"87\":null,\"88\":null,\"89\":null,\"90\":null,\"91\":null,\"92\":null,\"93\":null,\"94\":null,\"95\":null,\"96\":null,\"97\":null,\"98\":null,\"99\":null,\"100\":null,\"101\":null},\"Location\":{\"0\":\"Cambridge, Massachusetts\",\"1\":null,\"2\":null,\"3\":null,\"4\":null,\"5\":null,\"6\":null,\"7\":null,\"8\":null,\"9\":null,\"10\":null,\"11\":null,\"12\":null,\"13\":null,\"14\":null,\"15\":null,\"16\":null,\"17\":null,\"18\":null,\"19\":null,\"20\":null,\"21\":null,\"22\":null,\"23\":null,\"24\":null,\"25\":null,\"26\":null,\"27\":null,\"28\":null,\"29\":null,\"30\":null,\"31\":null,\"32\":null,\"33\":null,\"34\":null,\"35\":null,\"36\":null,\"37\":null,\"38\":null,\"39\":null,\"40\":null,\"41\":null,\"42\":null,\"43\":null,\"44\":null,\"45\":null,\"46\":null,\"47\":null,\"48\":null,\"49\":null,\"50\":null,\"51\":null,\"52\":null,\"53\":null,\"54\":null,\"55\":null,\"56\":null,\"57\":null,\"58\":null,\"59\":null,\"60\":null,\"61\":null,\"62\":null,\"63\":null,\"64\":null,\"65\":null,\"66\":null,\"67\":null,\"68\":null,\"69\":null,\"70\":null,\"71\":null,\"72\":null,\"73\":null,\"74\":null,\"75\":null,\"76\":null,\"77\":null,\"78\":null,\"79\":null,\"80\":null,\"81\":null,\"82\":null,\"83\":null,\"84\":null,\"85\":null,\"86\":null,\"87\":null,\"88\":null,\"89\":null,\"90\":null,\"91\":null,\"92\":null,\"93\":null,\"94\":null,\"95\":null,\"96\":null,\"97\":null,\"98\":null,\"99\":null,\"100\":null,\"101\":null},\"School_type\":{\"0\":\"University\",\"1\":null,\"2\":null,\"3\":null,\"4\":null,\"5\":null,\"6\":null,\"7\":null,\"8\":null,\"9\":null,\"10\":null,\"11\":null,\"12\":null,\"13\":null,\"14\":null,\"15\":null,\"16\":null,\"17\":null,\"18\":null,\"19\":null,\"20\":null,\"21\":null,\"22\":null,\"23\":null,\"24\":null,\"25\":null,\"26\":null,\"27\":null,\"28\":null,\"29\":null,\"30\":null,\"31\":null,\"32\":null,\"33\":null,\"34\":null,\"35\":null,\"36\":null,\"37\":null,\"38\":null,\"39\":null,\"40\":null,\"41\":null,\"42\":null,\"43\":null,\"44\":null,\"45\":null,\"46\":null,\"47\":null,\"48\":null,\"49\":null,\"50\":null,\"51\":null,\"52\":null,\"53\":null,\"54\":null,\"55\":null,\"56\":null,\"57\":null,\"58\":null,\"59\":null,\"60\":null,\"61\":null,\"62\":null,\"63\":null,\"64\":null,\"65\":null,\"66\":null,\"67\":null,\"68\":null,\"69\":null,\"70\":null,\"71\":null,\"72\":null,\"73\":null,\"74\":null,\"75\":null,\"76\":null,\"77\":null,\"78\":null,\"79\":null,\"80\":null,\"81\":null,\"82\":null,\"83\":null,\"84\":null,\"85\":null,\"86\":null,\"87\":null,\"88\":null,\"89\":null,\"90\":null,\"91\":null,\"92\":null,\"93\":null,\"94\":null,\"95\":null,\"96\":null,\"97\":null,\"98\":null,\"99\":null,\"100\":null,\"101\":null},\"Established_year\":{\"0\":\"Estd1636\",\"1\":null,\"2\":null,\"3\":null,\"4\":null,\"5\":null,\"6\":null,\"7\":null,\"8\":null,\"9\":null,\"10\":null,\"11\":null,\"12\":null,\"13\":null,\"14\":null,\"15\":null,\"16\":null,\"17\":null,\"18\":null,\"19\":null,\"20\":null,\"21\":null,\"22\":null,\"23\":null,\"24\":null,\"25\":null,\"26\":null,\"27\":null,\"28\":null,\"29\":null,\"30\":null,\"31\":null,\"32\":null,\"33\":null,\"34\":null,\"35\":null,\"36\":null,\"37\":null,\"38\":null,\"39\":null,\"40\":null,\"41\":null,\"42\":null,\"43\":null,\"44\":null,\"45\":null,\"46\":null,\"47\":null,\"48\":null,\"49\":null,\"50\":null,\"51\":null,\"52\":null,\"53\":null,\"54\":null,\"55\":null,\"56\":null,\"57\":null,\"58\":null,\"59\":null,\"60\":null,\"61\":null,\"62\":null,\"63\":null,\"64\":null,\"65\":null,\"66\":null,\"67\":null,\"68\":null,\"69\":null,\"70\":null,\"71\":null,\"72\":null,\"73\":null,\"74\":null,\"75\":null,\"76\":null,\"77\":null,\"78\":null,\"79\":null,\"80\":null,\"81\":null,\"82\":null,\"83\":null,\"84\":null,\"85\":null,\"86\":null,\"87\":null,\"88\":null,\"89\":null,\"90\":null,\"91\":null,\"92\":null,\"93\":null,\"94\":null,\"95\":null,\"96\":null,\"97\":null,\"98\":null,\"99\":null,\"100\":null,\"101\":null},\"Enrollment\":{\"0\":\"22947\",\"1\":null,\"2\":null,\"3\":null,\"4\":null,\"5\":null,\"6\":null,\"7\":null,\"8\":null,\"9\":null,\"10\":null,\"11\":null,\"12\":null,\"13\":null,\"14\":null,\"15\":null,\"16\":null,\"17\":null,\"18\":null,\"19\":null,\"20\":null,\"21\":null,\"22\":null,\"23\":null,\"24\":null,\"25\":null,\"26\":null,\"27\":null,\"28\":null,\"29\":null,\"30\":null,\"31\":null,\"32\":null,\"33\":null,\"34\":null,\"35\":null,\"36\":null,\"37\":null,\"38\":null,\"39\":null,\"40\":null,\"41\":null,\"42\":null,\"43\":null,\"44\":null,\"45\":null,\"46\":null,\"47\":null,\"48\":null,\"49\":null,\"50\":null,\"51\":null,\"52\":null,\"53\":null,\"54\":null,\"55\":null,\"56\":null,\"57\":null,\"58\":null,\"59\":null,\"60\":null,\"61\":null,\"62\":null,\"63\":null,\"64\":null,\"65\":null,\"66\":null,\"67\":null,\"68\":null,\"69\":null,\"70\":null,\"71\":null,\"72\":null,\"73\":null,\"74\":null,\"75\":null,\"76\":null,\"77\":null,\"78\":null,\"79\":null,\"80\":null,\"81\":null,\"82\":null,\"83\":null,\"84\":null,\"85\":null,\"86\":null,\"87\":null,\"88\":null,\"89\":null,\"90\":null,\"91\":null,\"92\":null,\"93\":null,\"94\":null,\"95\":null,\"96\":null,\"97\":null,\"98\":null,\"99\":null,\"100\":null,\"101\":null},\"Accerdation\":{\"0\":\"CEPH, NEASC\",\"1\":null,\"2\":null,\"3\":null,\"4\":null,\"5\":null,\"6\":null,\"7\":null,\"8\":null,\"9\":null,\"10\":null,\"11\":null,\"12\":null,\"13\":null,\"14\":null,\"15\":null,\"16\":null,\"17\":null,\"18\":null,\"19\":null,\"20\":null,\"21\":null,\"22\":null,\"23\":null,\"24\":null,\"25\":null,\"26\":null,\"27\":null,\"28\":null,\"29\":null,\"30\":null,\"31\":null,\"32\":null,\"33\":null,\"34\":null,\"35\":null,\"36\":null,\"37\":null,\"38\":null,\"39\":null,\"40\":null,\"41\":null,\"42\":null,\"43\":null,\"44\":null,\"45\":null,\"46\":null,\"47\":null,\"48\":null,\"49\":null,\"50\":null,\"51\":null,\"52\":null,\"53\":null,\"54\":null,\"55\":null,\"56\":null,\"57\":null,\"58\":null,\"59\":null,\"60\":null,\"61\":null,\"62\":null,\"63\":null,\"64\":null,\"65\":null,\"66\":null,\"67\":null,\"68\":null,\"69\":null,\"70\":null,\"71\":null,\"72\":null,\"73\":null,\"74\":null,\"75\":null,\"76\":null,\"77\":null,\"78\":null,\"79\":null,\"80\":null,\"81\":null,\"82\":null,\"83\":null,\"84\":null,\"85\":null,\"86\":null,\"87\":null,\"88\":null,\"89\":null,\"90\":null,\"91\":null,\"92\":null,\"93\":null,\"94\":null,\"95\":null,\"96\":null,\"97\":null,\"98\":null,\"99\":null,\"100\":null,\"101\":null},\"Courses_name\":{\"0\":\"Master of Business Administration [M.B.A]\",\"1\":\"Master of Science [M.S] Data Science\",\"2\":\"Master of Business Administration [M.B.A] Finance\",\"3\":\"Master of Engineering [M.Eng] Computational Science and Engineering\",\"4\":\"Master of Science [M.S] Liberal Arts - Software Engineering\",\"5\":\"Doctor of Medicine [M.D]\",\"6\":\"Bachelor of Arts [B.A] Applied Mathematics\",\"7\":\"Master of Science [M.S] Applied Computation\",\"8\":\"Master of Law [L.L.M]\",\"9\":\"Doctor of Philosophy [Ph.D] Computer Science\",\"10\":\"Bachelor of Science [B.S] Electrical Engineering\",\"11\":\"Master of Architecture [M.Arch]\",\"12\":\"Master of Engineering [M.Eng] Design Engineering\",\"13\":\"Bachelor of Arts [B.A] Computer Science\",\"14\":\"Master of Science [M.S] Health Data Science\",\"15\":\"Bachelor of Arts [B.A] Theater, Dance and Media\",\"16\":\"Doctor of Philosophy [Ph.D] Electrical Engineering\",\"17\":\"Bachelor of Arts [B.A] Biomedical Engineering\",\"18\":\"Master of Science [M.S] Biostatistics\",\"19\":\"Master of Liberal Arts [M.L.A.] Biology\",\"20\":\"Doctor of Philosophy [Ph.D] Neuroscience\",\"21\":\"Bachelor of Science [B.S] Neurobiology\",\"22\":\"Doctor of Philosophy [Ph.D] Business Administration\",\"23\":\"Bachelor of Science [B.S] Materials Science and Mechanical Engineering\",\"24\":\"Master of Science [M.S] Public Health Research\",\"25\":\"Doctor of Philosophy [Ph.D} Computer Science\",\"26\":\"Doctor of Philosophy [Ph.D] Molecular and Cellular Biology\",\"27\":\"Bachelor of Science [B.S] Environmental Science and Engineering\",\"28\":\"Bachelor of Science [B.S] Bioengineering\",\"29\":\"Doctor of Philosophy [Ph.D] Statistics\",\"30\":\"Master Liberal Arts - Data Science\",\"31\":\"Master Liberal Arts - Information Management Systems\",\"32\":\"Master Liberal Arts - English\",\"33\":\"Master Liberal Arts - Finance\",\"34\":\"Master Liberal Arts - Religion\",\"35\":\"Master of Arts [M.A] Medical Anthropology\",\"36\":\"Master of Science [M.S]\\/Master of Business Administration [M.B.A] Biotechnology - Life Sciences\",\"37\":\"Master Medical Sciences - Geriatric Dentistry\",\"38\":\"Master Medical Sciences - Implant Dentistry\",\"39\":\"Master Medical Sciences - Oral and Maxillofacial Surgery\",\"40\":\"Master Medical Sciences - Orthodontics\",\"41\":\"Master Medical Sciences - Periodontology\",\"42\":\"Master of Arts [M.A] Regional Studies - Russia, Eastern Europe, and Central Asia\",\"43\":\"Master in Landscape Architecture\",\"44\":\"Master Landscape Architecture II\",\"45\":\"Master Landscape Architecture- Urban Design\",\"46\":\"Master of Design [M.Des] Technology\",\"47\":\"Bachelor of Science [B.S] Mechanical Engineering\",\"48\":\"Master of Science [M.S] Computational Science and Engineering\",\"49\":\"Master Bioethics\",\"50\":\"Master Clinical Service Operations\",\"51\":\"Master of Science [M.S] Biomedical Informatics\",\"52\":\"Master of Medical Science [M.Med.Sc] Immunology\",\"53\":\"Master of Medical Sciences [M.M.Sc.] Medical Sciences - Global Health Delivery\",\"54\":\"Master Medical Sciences - Medical Education\",\"55\":\"Bachelor of Science [B.S] Engineering Sciences\",\"56\":\"Master Liberal Arts - Dramatic Arts\",\"57\":\"Master Liberal Arts - International Relations\",\"58\":\"Master Liberal Arts - Government\",\"59\":\"Master Liberal Arts - History\",\"60\":\"Master of Public Policy [M.P.P]\",\"61\":\"Master of Public Administration [M.P.A]\",\"62\":\"Master Public Administration (Mid-Career)\",\"63\":\"Master of Science [M.S]\\/Master of Business Administration [M.B.A] Biotechnology - Life Sciences\",\"64\":\"Master of Arts [M.A] Middle Eastern Studies\",\"65\":\"Master of Arts [M.A] Regional Studies - East Asia\",\"66\":\"Master of Divinity [M.Div]\",\"67\":\"Master of Theology [M.Th]\",\"68\":\"Master of Public Health [M.P.H] Environmental Health\",\"69\":\"Bachelor of Science [B.S] Physics\",\"70\":\"Bachelor of Arts [B.A] Sociology\",\"71\":\"Bachelor of Arts [B.A] Philosophy\",\"72\":\"Bachelor of Science [B.S] Statistics\",\"73\":\"Bachelor of Science [B.S] Psychology\",\"74\":\"Master of Education [M.Ed]\",\"75\":\"Master of Liberal Arts [M.L.A.] Digital Media Design\",\"76\":\"Master of Liberal Arts [M.L.A.] Biotechnology\",\"77\":\"Master of Liberal Arts [M.L.A.] Management\",\"78\":\"Bachelor of Arts [B.A] Economics\",\"79\":\"Bachelor of Arts [B.A] Mathematics\",\"80\":\"Bachelor of Arts [B.A] Astrophysics\",\"81\":\"Bachelor of Arts [B.A] Molecular and Cellular Biology\",\"82\":\"Bachelor of Arts [B.A] Art, Film, and Visual Studies\",\"83\":\"Bachelor of Arts [B.A] Neuroscience\",\"84\":\"Bachelor of Arts [B.A] Chemistry\",\"85\":\"Bachelor of Arts [B.A] Music\",\"86\":\"Bachelor of Arts [B.A] Folklore and Mythology\",\"87\":\"Bachelor of Arts [B.A] Human Developmental and Regenerative Biology\",\"88\":\"Bachelor of Arts [B.A] Anthropology\",\"89\":\"Bachelor of Arts [B.A] Earth and Planetary Sciences\",\"90\":\"Bachelor of Arts [B.A] Integrative Biology\",\"91\":\"Bachelor of Arts [B.A] East Asian Studies\",\"92\":\"Bachelor of Arts [B.A] Comparative Literature\",\"93\":\"Bachelor of Arts [B.A] English\",\"94\":\"Bachelor of Arts [B.A] Chemistry and Physics\",\"95\":\"Bachelor of Arts [B.A] History\",\"96\":\"Bachelor of Arts [B.A] Comparative Study of Religion\",\"97\":\"Bachelor of Arts [B.A] Women, Gender, and Sexuality\",\"98\":\"Bachelor of Arts [B.A] History and Literature\",\"99\":\"Bachelor of Arts [B.A] History of Art and Architecture\",\"100\":\"Dental Medical[DMD]\",\"101\":\"Doctor of Medicine[MD]\\/ Master of Public Health[MPH]\"},\"Duration\":{\"0\":\"2 years\",\"1\":\"2 years\",\"2\":\"2 years\",\"3\":\"2 years\",\"4\":\"2 years\",\"5\":\"5 years\",\"6\":\"4 years\",\"7\":\"2 years\",\"8\":\"1 year\",\"9\":\"5 years\",\"10\":\"4 years\",\"11\":\"1 year\",\"12\":\"1 year\",\"13\":\"4 years\",\"14\":\"1 year\",\"15\":\"4 years\",\"16\":\"5 years\",\"17\":\"4 years\",\"18\":\"1 year\",\"19\":\"2 years\",\"20\":\"5 years\",\"21\":\"4 years\",\"22\":\"5 years\",\"23\":\"4 years\",\"24\":\"2 years\",\"25\":\"2 years\",\"26\":\"5 years\",\"27\":\"4 years\",\"28\":\"4 years\",\"29\":\"5 years\",\"30\":\"2 years\",\"31\":\"2 years\",\"32\":\"2 years\",\"33\":\"2 years\",\"34\":\"2 years\",\"35\":\"2 years\",\"36\":\"2 years\",\"37\":\"2 years\",\"38\":\"2 years\",\"39\":\"2 years\",\"40\":\"2 years\",\"41\":\"3 years\",\"42\":\"2 years\",\"43\":\"1 year\",\"44\":\"2 years\",\"45\":\"2 years\",\"46\":\"2 years\",\"47\":\"4 years\",\"48\":\"2 years\",\"49\":\"2 years\",\"50\":\"2 years\",\"51\":\"2 years\",\"52\":\"2 years\",\"53\":\"2 years\",\"54\":\"2 years\",\"55\":\"4 years\",\"56\":\"2 years\",\"57\":\"2 years\",\"58\":\"2 years\",\"59\":\"2 years\",\"60\":\"2 years\",\"61\":\"2 years\",\"62\":\"1 year\",\"63\":\"2 years\",\"64\":\"2 years\",\"65\":\"2 years\",\"66\":\"3 years\",\"67\":\"1 year\",\"68\":\"2 years\",\"69\":\"4 years\",\"70\":\"4 years\",\"71\":\"4 years\",\"72\":\"4 years\",\"73\":\"4 years\",\"74\":\"2 years\",\"75\":\"2 years\",\"76\":\"2 years\",\"77\":\"2 years\",\"78\":\"4 years\",\"79\":\"4 years\",\"80\":\"4 years\",\"81\":\"4 years\",\"82\":\"4 years\",\"83\":\"4 years\",\"84\":\"4 years\",\"85\":\"4 years\",\"86\":\"4 years\",\"87\":\"4 years\",\"88\":\"4 years\",\"89\":\"4 years\",\"90\":\"4 years\",\"91\":\"4 years\",\"92\":\"4 years\",\"93\":\"4 years\",\"94\":\"4 years\",\"95\":\"4 years\",\"96\":\"4 years\",\"97\":\"4 years\",\"98\":\"4 years\",\"99\":\"4 years\",\"100\":\"4 years\",\"101\":\"3 years\"},\"Type_of_education\":{\"0\":\"On Campus\",\"1\":\"Co Op, On Campus\",\"2\":\"On Campus\",\"3\":\"On Campus\",\"4\":\"Online, On Campus\",\"5\":\"On Campus\",\"6\":\"Co Op, On Campus\",\"7\":\"On Campus\",\"8\":\"On Campus\",\"9\":\"On Campus\",\"10\":\"On Campus\",\"11\":\"Co Op, On Campus\",\"12\":\"On Campus\",\"13\":\"On Campus\",\"14\":\"On Campus\",\"15\":\"On Campus\",\"16\":\"On Campus\",\"17\":\"On Campus\",\"18\":\"On Campus\",\"19\":\"Online, On Campus\",\"20\":\"On Campus\",\"21\":\"On Campus\",\"22\":\"On Campus\",\"23\":\"On Campus\",\"24\":\"On Campus\",\"25\":\"On Campus\",\"26\":\"On Campus\",\"27\":\"On Campus\",\"28\":\"On Campus\",\"29\":\"On Campus\",\"30\":\"Online, On Campus\",\"31\":\"Online, On Campus\",\"32\":\"Online, On Campus\",\"33\":\"Online, On Campus\",\"34\":\"Online, On Campus\",\"35\":\"On Campus\",\"36\":\"On Campus, Dual Degree\",\"37\":\"On Campus\",\"38\":\"On Campus\",\"39\":\"On Campus\",\"40\":\"On Campus\",\"41\":\"On Campus\",\"42\":\"On Campus\",\"43\":\"On Campus\",\"44\":\"On Campus\",\"45\":\"On Campus\",\"46\":\"On Campus\",\"47\":\"On Campus\",\"48\":\"Honours, On Campus\",\"49\":\"On Campus\",\"50\":\"On Campus\",\"51\":\"On Campus\",\"52\":\"On Campus\",\"53\":\"On Campus\",\"54\":\"On Campus\",\"55\":\"On Campus\",\"56\":\"Online, On Campus\",\"57\":\"Online, On Campus\",\"58\":\"Online, On Campus\",\"59\":\"On Campus\",\"60\":\"On Campus\",\"61\":\"On Campus\",\"62\":\"On Campus\",\"63\":\"On Campus, Dual Degree\",\"64\":\"On Campus\",\"65\":\"On Campus\",\"66\":\"On Campus\",\"67\":\"On Campus\",\"68\":\"On Campus\",\"69\":\"On Campus\",\"70\":\"On Campus\",\"71\":\"On Campus\",\"72\":\"On Campus\",\"73\":\"On Campus\",\"74\":\"On Campus\",\"75\":\"Online, On Campus\",\"76\":\"Online, On Campus\",\"77\":\"Online, On Campus\",\"78\":\"On Campus\",\"79\":\"On Campus\",\"80\":\"On Campus\",\"81\":\"Co Op\",\"82\":\"On Campus\",\"83\":\"On Campus\",\"84\":\"On Campus\",\"85\":\"On Campus\",\"86\":\"On Campus\",\"87\":\"On Campus\",\"88\":\"On Campus\",\"89\":\"On Campus\",\"90\":\"On Campus\",\"91\":\"On Campus\",\"92\":\"On Campus\",\"93\":\"On Campus\",\"94\":\"On Campus\",\"95\":\"On Campus\",\"96\":\"On Campus\",\"97\":\"On Campus\",\"98\":\"On Campus\",\"99\":\"On Campus\",\"100\":\"On Campus\",\"101\":\"On Campus\"},\"Fees\":{\"0\":\"INR 67 L\\/Yr\",\"1\":\"INR 50.7 L\\/Yr\",\"2\":\"INR 50.7 L\\/Yr\",\"3\":\"INR 50.7 L\\/Yr\",\"4\":\"INR 50.7 L\\/Yr\",\"5\":\"INR 50 L\\/Yr\",\"6\":\"INR 50 L\\/Yr\",\"7\":\"INR 50.7 L\\/Yr\",\"8\":\"INR 50.7 L\\/Yr\",\"9\":\"INR 25.3 L\\/Yr\",\"10\":\"INR 50 L\\/Yr\",\"11\":\"INR 18.7 L\\/Yr\",\"12\":\"INR 50.7 L\\/Yr\",\"13\":\"INR 50 L\\/Yr\",\"14\":\"INR 50.7 L\\/Yr\",\"15\":\"INR 50 L\\/Yr\",\"16\":\"INR 25.3 L\\/Yr\",\"17\":\"INR 18.7 L\\/Yr\",\"18\":\"INR 50.7 L\\/Yr\",\"19\":\"INR 50.7 L\\/Yr\",\"20\":\"INR 25.3 L\\/Yr\",\"21\":\"INR 50 L\\/Yr\",\"22\":\"INR 25.3 L\\/Yr\",\"23\":\"INR 50 L\\/Yr\",\"24\":\"INR 50.7 L\\/Yr\",\"25\":\"INR 50 L\\/Yr\",\"26\":\"INR 25.3 L\\/Yr\",\"27\":\"INR 50 L\\/Yr\",\"28\":\"INR 50 L\\/Yr\",\"29\":\"INR 25.3 L\\/Yr\",\"30\":\"INR 50.7 L\\/Yr\",\"31\":\"INR 50.7 L\\/Yr\",\"32\":\"INR 50.7 L\\/Yr\",\"33\":\"INR 50.7 L\\/Yr\",\"34\":\"INR 50.7 L\\/Yr\",\"35\":\"INR 50.7 L\\/Yr\",\"36\":\"INR 50.7 L\\/Yr\",\"37\":\"INR 50.7 L\\/Yr\",\"38\":\"INR 50.7 L\\/Yr\",\"39\":\"INR 50.7 L\\/Yr\",\"40\":\"INR 18.7 L\\/Yr\",\"41\":\"INR 18.7 L\\/Yr\",\"42\":\"INR 50.7 L\\/Yr\",\"43\":\"INR 18.7 L\\/Yr\",\"44\":\"INR 50.7 L\\/Yr\",\"45\":\"INR 50.7 L\\/Yr\",\"46\":\"INR 50.7 L\\/Yr\",\"47\":\"INR 50 L\\/Yr\",\"48\":\"INR 50.7 L\\/Yr\",\"49\":\"INR 50.7 L\\/Yr\",\"50\":\"INR 50.7 L\\/Yr\",\"51\":\"INR 50.7 L\\/Yr\",\"52\":\"INR 50.7 L\\/Yr\",\"53\":\"INR 50.7 L\\/Yr\",\"54\":\"INR 50.7 L\\/Yr\",\"55\":\"INR 50 L\\/Yr\",\"56\":\"INR 50.7 L\\/Yr\",\"57\":\"INR 50.7 L\\/Yr\",\"58\":\"INR 18.7 L\\/Yr\",\"59\":\"INR 50.7 L\\/Yr\",\"60\":\"INR 50.7 L\\/Yr\",\"61\":\"INR 18.7 L\\/Yr\",\"62\":\"INR 50.7 L\\/Yr\",\"63\":\"INR 50.7 L\\/Yr\",\"64\":\"INR 50.7 L\\/Yr\",\"65\":\"INR 50.7 L\\/Yr\",\"66\":\"INR 18.7 L\\/Yr\",\"67\":\"INR 50.7 L\\/Yr\",\"68\":\"INR 50.7 L\\/Yr\",\"69\":\"INR 50 L\\/Yr\",\"70\":\"INR 50 L\\/Yr\",\"71\":\"INR 50 L\\/Yr\",\"72\":\"INR 50 L\\/Yr\",\"73\":\"INR 50 L\\/Yr\",\"74\":\"INR 50.7 L\\/Yr\",\"75\":\"INR 50.7 L\\/Yr\",\"76\":\"INR 50.7 L\\/Yr\",\"77\":\"INR 50.7 L\\/Yr\",\"78\":\"INR 50 L\\/Yr\",\"79\":\"INR 50 L\\/Yr\",\"80\":\"INR 50 L\\/Yr\",\"81\":\"INR 50 L\\/Yr\",\"82\":\"INR 50 L\\/Yr\",\"83\":\"INR 50 L\\/Yr\",\"84\":\"INR 50 L\\/Yr\",\"85\":\"INR 50 L\\/Yr\",\"86\":\"INR 50 L\\/Yr\",\"87\":\"INR 50 L\\/Yr\",\"88\":\"INR 50 L\\/Yr\",\"89\":\"INR 50 L\\/Yr\",\"90\":\"INR 50 L\\/Yr\",\"91\":\"INR 50 L\\/Yr\",\"92\":\"INR 50 L\\/Yr\",\"93\":\"INR 50 L\\/Yr\",\"94\":\"INR 50 L\\/Yr\",\"95\":\"INR 50 L\\/Yr\",\"96\":\"INR 50 L\\/Yr\",\"97\":\"INR 50 L\\/Yr\",\"98\":\"INR 50 L\\/Yr\",\"99\":\"INR 50 L\\/Yr\",\"100\":\"INR 60.5 L\\/Yr\",\"101\":\"INR 15.4 L\\/Yr\"},\"Exam_score\":{\"0\":\"Exam Scores: IELTS7.5|TOEFL109|GRE326|GMAT730|Duolingo130\",\"1\":\"Exam Scores: TOEFL100|IELTS7|GRE292\",\"2\":\"Exam Scores: IELTS7.5|TOEFL109|GRE326|GMAT730|PTE75\",\"3\":\"Exam Scores: TOEFL90|IELTS6.5|GRE292\",\"4\":\"Exam Scores: TOEFL100|IELTS7|PTE70\",\"5\":\"Exam Scores: TOEFL90|IELTS6.5|GRE292\",\"6\":\"Exam Scores: TOEFL80|IELTS6.5|ACT32|SAT1460\",\"7\":\"Exam Scores: TOEFL100|IELTS7|GRE292\",\"8\":\"Exam Scores: TOEFL109|IELTS7.5|GRE292\",\"9\":\"Exam Scores: TOEFL90|IELTS6.5|GRE292\",\"10\":\"Exam Scores: TOEFL80|IELTS6.5|ACT32|SAT1460\",\"11\":\"Exam Scores: TOEFL90|IELTS6.5|GRE292\",\"12\":\"Exam Scores: TOEFL90|IELTS6.5|GRE292\",\"13\":\"Exam Scores: TOEFL80|IELTS6.5|ACT32|SAT1460\",\"14\":\"Exam Scores: TOEFL90|IELTS6.5|GRE292\",\"15\":\"Exam Scores: TOEFL80|IELTS6.5|ACT32|SAT1460\",\"16\":\"Exam Scores: TOEFL90|IELTS6.5|GRE292\",\"17\":\"Exam Scores: TOEFL80|IELTS6.5|ACT32|SAT1460\",\"18\":\"Exam Scores: TOEFL90|IELTS6.5|GRE292\",\"19\":\"Exam Scores: TOEFL100|IELTS7|PTE70\",\"20\":\"Exam Scores: TOEFL90|IELTS6.5|GRE292\",\"21\":\"Exam Scores: TOEFL80|IELTS6.5|ACT32|SAT1460\",\"22\":\"Exam Scores: TOEFL100|IELTS7.5|GRE292\",\"23\":\"Exam Scores: TOEFL80|IELTS6.5|ACT32|SAT1460\",\"24\":\"Exam Scores: TOEFL104|IELTS7\",\"25\":\"Application Deadline: 01 Jun, 2023\",\"26\":\"Exam Scores: TOEFL90|IELTS6.5|GRE292\",\"27\":\"Exam Scores: TOEFL80|IELTS6.5|ACT32|SAT1460\",\"28\":\"Exam Scores: TOEFL80|IELTS6.5|ACT32|SAT1460\",\"29\":\"Exam Scores: TOEFL90|IELTS6.5|GRE292\",\"30\":\"Exam Scores: TOEFL100|IELTS7|PTE70\",\"31\":\"Exam Scores: TOEFL100|IELTS7|PTE70\",\"32\":\"Exam Scores: TOEFL100|IELTS7|PTE70\",\"33\":\"Exam Scores: TOEFL100|IELTS7|PTE70\",\"34\":\"Exam Scores: TOEFL100|IELTS7|PTE70\",\"35\":\"Exam Scores: TOEFL90|IELTS6.5|GRE292\",\"36\":\"Exam Scores: TOEFL90|IELTS6.5|GRE292\",\"37\":\"Exam Scores: TOEFL90|IELTS6.5|GRE292\",\"38\":\"Exam Scores: TOEFL90|IELTS6.5|GRE292\",\"39\":\"Exam Scores: TOEFL90|IELTS6.5|GRE292\",\"40\":\"Exam Scores: TOEFL90|IELTS6.5|GRE292\",\"41\":\"Exam Scores: TOEFL90|IELTS6.5|GRE292\",\"42\":\"Exam Scores: TOEFL90|IELTS6.5|GRE292\",\"43\":\"Exam Scores: TOEFL90|IELTS6.5|GRE292\",\"44\":\"Exam Scores: TOEFL90|IELTS6.5|GRE292\",\"45\":\"Exam Scores: TOEFL90|IELTS6.5|GRE292\",\"46\":\"Exam Scores: TOEFL90|IELTS6.5|GRE292\",\"47\":\"Exam Scores: TOEFL80|IELTS6.5|ACT32|SAT1460\",\"48\":\"Exam Scores: TOEFL100|IELTS7|GRE292\",\"49\":\"Exam Scores: TOEFL90|IELTS6.5|GRE292\",\"50\":\"Exam Scores: TOEFL90|IELTS6.5|GRE292\",\"51\":\"Exam Scores: TOEFL90|IELTS6.5|GRE292\",\"52\":\"Exam Scores: TOEFL100|IELTS7.5|GRE292\",\"53\":\"Exam Scores: TOEFL90|IELTS6.5|GRE292\",\"54\":\"Exam Scores: TOEFL90|IELTS6.5|GRE292\",\"55\":\"Exam Scores: TOEFL80|IELTS6.5|ACT32|SAT1460\",\"56\":\"Exam Scores: TOEFL100|IELTS7|PTE70\",\"57\":\"Exam Scores: TOEFL100|IELTS7|PTE70\",\"58\":\"Exam Scores: TOEFL100|IELTS7|PTE70\",\"59\":\"Exam Scores: TOEFL100|IELTS7|PTE70\",\"60\":\"Exam Scores: TOEFL100|IELTS7\",\"61\":\"Exam Scores: TOEFL100|IELTS7\",\"62\":\"Exam Scores: TOEFL100|IELTS7\",\"63\":\"Exam Scores: IELTS7.5|TOEFL109|PTE75|GMAT730\",\"64\":\"Exam Scores: TOEFL90|IELTS6.5|GRE292\",\"65\":\"Exam Scores: TOEFL90|IELTS6.5|GRE292\",\"66\":\"Exam Scores: TOEFL90|IELTS6.5|GRE292\",\"67\":\"Exam Scores: TOEFL90|IELTS6.5|GRE292\",\"68\":\"Exam Scores: TOEFL100|IELTS7|GRE292\",\"69\":\"Exam Scores: TOEFL80|IELTS6.5|ACT32|SAT1460\",\"70\":\"Exam Scores: TOEFL80|IELTS6.5|ACT32|SAT1460\",\"71\":\"Exam Scores: TOEFL80|IELTS6.5|ACT32|SAT1460\",\"72\":\"Exam Scores: TOEFL80|IELTS6.5|ACT32|SAT1460\",\"73\":\"Exam Scores: TOEFL80|IELTS6.5|ACT32|SAT1460\",\"74\":\"Exam Scores: IELTS7|TOEFL100|GRE298\",\"75\":\"Exam Scores: TOEFL100|IELTS7\",\"76\":\"Exam Scores: TOEFL100|IELTS7\",\"77\":\"Exam Scores: TOEFL100|IELTS7\",\"78\":\"Exam Scores: TOEFL80|IELTS6.5|SAT1460\",\"79\":\"Exam Scores: TOEFL80|IELTS6.5|SAT1406\",\"80\":\"Exam Scores: TOEFL80|IELTS6.5|SAT1460\",\"81\":\"Exam Scores: TOEFL80|IELTS6.5|SAT1406\",\"82\":\"Exam Scores: TOEFL80|IELTS6.5|SAT1406\",\"83\":\"Exam Scores: TOEFL80|IELTS6.5|SAT1460\",\"84\":\"Exam Scores: TOEFL80|IELTS6.5|ACT1460\",\"85\":\"Exam Scores: IELTS6.5|TOEFL80|SAT1460\",\"86\":\"Exam Scores: IELTS6.5|TOEFL80|SAT1460\",\"87\":\"Exam Scores: IELTS6.5|TOEFL80|SAT1460\",\"88\":\"Exam Scores: IELTS6.5|TOEFL80|SAT1460\",\"89\":\"Exam Scores: IELTS6.5|TOEFL80|SAT1460\",\"90\":\"Exam Scores: IELTS6.5|TOEFL80|SAT1460\",\"91\":\"Exam Scores: IELTS6.5|TOEFL80|SAT1460\",\"92\":\"Exam Scores: IELTS6.5|TOEFL80|SAT1460\",\"93\":\"Exam Scores: IELTS6.5|TOEFL80|SAT1460\",\"94\":\"Application Deadline: 01 Jan, 2023\",\"95\":\"Exam Scores: IELTS6.5|TOEFL80|SAT1460\",\"96\":\"Exam Scores: IELTS6.5|TOEFL80|SAT1460\",\"97\":\"Exam Scores: IELTS6.5|TOEFL80|SAT1460\",\"98\":\"Exam Scores: IELTS6.5|TOEFL80|SAT1460\",\"99\":\"Exam Scores: IELTS6.5|TOEFL80|SAT1460\",\"100\":\"Exam Scores: IELTS6.5|TOEFL90\",\"101\":\"Exam Scores: IELTS6.5|TOEFL90\"},\"Language\":{\"0\":\"English\",\"1\":\"English\",\"2\":\"English\",\"3\":\"English\",\"4\":\"English\",\"5\":\"English\",\"6\":\"English\",\"7\":\"English\",\"8\":\"English\",\"9\":\"English\",\"10\":\"English\",\"11\":\"English\",\"12\":\"English\",\"13\":\"English\",\"14\":\"English\",\"15\":\"English\",\"16\":\"English\",\"17\":\"English\",\"18\":\"English\",\"19\":\"English\",\"20\":\"English\",\"21\":\"English\",\"22\":\"English\",\"23\":\"English\",\"24\":\"English\",\"25\":\"English\",\"26\":\"English\",\"27\":\"English\",\"28\":\"English\",\"29\":\"English\",\"30\":\"English\",\"31\":\"English\",\"32\":\"English\",\"33\":\"English\",\"34\":\"English\",\"35\":\"English\",\"36\":\"English\",\"37\":\"English\",\"38\":\"English\",\"39\":\"English\",\"40\":\"English\",\"41\":\"English\",\"42\":\"English\",\"43\":\"English\",\"44\":\"English\",\"45\":\"English\",\"46\":\"English\",\"47\":\"English\",\"48\":\"English\",\"49\":\"English\",\"50\":\"English\",\"51\":\"English\",\"52\":\"English\",\"53\":\"English\",\"54\":\"English\",\"55\":\"English\",\"56\":\"English\",\"57\":\"English\",\"58\":\"English\",\"59\":\"English\",\"60\":\"English\",\"61\":\"English\",\"62\":\"English\",\"63\":\"English\",\"64\":\"English\",\"65\":\"English\",\"66\":\"English\",\"67\":\"English\",\"68\":\"English\",\"69\":\"English\",\"70\":\"English\",\"71\":\"English\",\"72\":\"English\",\"73\":\"English\",\"74\":\"English\",\"75\":\"English\",\"76\":\"English\",\"77\":\"English\",\"78\":\"English\",\"79\":\"English\",\"80\":\"English\",\"81\":\"English\",\"82\":\"Bengali\",\"83\":\"English\",\"84\":\"English\",\"85\":\"English\",\"86\":\"English\",\"87\":\"English\",\"88\":\"English\",\"89\":\"English\",\"90\":\"English\",\"91\":\"English\",\"92\":\"English\",\"93\":\"English\",\"94\":\"English\",\"95\":\"English\",\"96\":\"English\",\"97\":\"English\",\"98\":\"English\",\"99\":\"English\",\"100\":\"English\",\"101\":\"English\"},\"Mode_of_course\":{\"0\":\"Full Time\",\"1\":\"Full Time\",\"2\":\"Full Time\",\"3\":\"Full Time\",\"4\":\"Full Time\",\"5\":\"Full Time\",\"6\":\"Full Time\",\"7\":\"Full Time\",\"8\":\"Full Time\",\"9\":\"Full Time\",\"10\":\"Full Time\",\"11\":\"Full Time\",\"12\":\"Full Time\",\"13\":\"Full Time\",\"14\":\"Full Time\",\"15\":\"Full Time\",\"16\":\"Full Time\",\"17\":\"Full Time\",\"18\":\"Full Time\",\"19\":\"Full Time\",\"20\":\"Full Time\",\"21\":\"Full Time\",\"22\":\"Full Time\",\"23\":\"Full Time\",\"24\":\"Full Time\",\"25\":\"Full Time\",\"26\":\"Full Time\",\"27\":\"Full Time\",\"28\":\"Full Time\",\"29\":\"Full Time\",\"30\":\"Full Time\",\"31\":\"Full Time\",\"32\":\"Full Time\",\"33\":\"Full Time\",\"34\":\"Full Time\",\"35\":\"Full Time\",\"36\":\"Full Time\",\"37\":\"Full Time\",\"38\":\"Full Time\",\"39\":\"Full Time\",\"40\":\"Full Time\",\"41\":\"Full Time\",\"42\":\"Full Time\",\"43\":\"Full Time\",\"44\":\"Full Time\",\"45\":\"Full Time\",\"46\":\"Full Time\",\"47\":\"Full Time\",\"48\":\"Full Time\",\"49\":\"Full Time\",\"50\":\"Full Time\",\"51\":\"Full Time\",\"52\":\"Full Time\",\"53\":\"Full Time\",\"54\":\"Full Time\",\"55\":\"Full Time\",\"56\":\"Full Time\",\"57\":\"Full Time\",\"58\":\"Full Time\",\"59\":\"Full Time\",\"60\":\"Full Time\",\"61\":\"Full Time\",\"62\":\"Full Time\",\"63\":\"Full Time\",\"64\":\"Full Time\",\"65\":\"Full Time\",\"66\":\"Full Time\",\"67\":\"Full Time\",\"68\":\"Full Time\",\"69\":\"Full Time\",\"70\":\"Full Time\",\"71\":\"Full Time\",\"72\":\"Full Time\",\"73\":\"Full Time\",\"74\":\"Full Time\",\"75\":\"Full Time\",\"76\":\"Full Time\",\"77\":\"Full Time\",\"78\":\"Full Time\",\"79\":\"Full Time\",\"80\":\"Full Time\",\"81\":\"Full Time\",\"82\":\"Full Time\",\"83\":\"Full Time\",\"84\":\"Full Time\",\"85\":\"Full Time\",\"86\":\"Full Time\",\"87\":\"Full Time\",\"88\":\"Full Time\",\"89\":\"Full Time\",\"90\":\"Full Time\",\"91\":\"Full Time\",\"92\":\"Full Time\",\"93\":\"Full Time\",\"94\":\"Full Time\",\"95\":\"Full Time\",\"96\":\"Full Time\",\"97\":\"Full Time\",\"98\":\"Full Time\",\"99\":\"Full Time\",\"100\":\"Full Time\",\"101\":\"Full Time\"},\"Link\":{\"0\":\"https:\\/\\/collegedunia.com\\/usa\\/college\\/1090-harvard-university-cambridge\\/master-of-business-administration-mba-179786\",\"1\":\"https:\\/\\/collegedunia.com\\/usa\\/college\\/1090-harvard-university-cambridge\\/master-of-science-ms-data-science-181896\",\"2\":\"https:\\/\\/collegedunia.com\\/usa\\/college\\/1090-harvard-university-cambridge\\/master-of-business-administration-mba-finance-215204\",\"3\":\"https:\\/\\/collegedunia.com\\/usa\\/college\\/1090-harvard-university-cambridge\\/master-of-engineering-meng-computational-science-and-engineering-181898\",\"4\":\"https:\\/\\/collegedunia.com\\/usa\\/college\\/1090-harvard-university-cambridge\\/master-of-science-ms-liberal-arts-software-engineering-179911\",\"5\":\"https:\\/\\/collegedunia.com\\/usa\\/college\\/1090-harvard-university-cambridge\\/doctor-of-medicine-md-215048\",\"6\":\"https:\\/\\/collegedunia.com\\/usa\\/college\\/1090-harvard-university-cambridge\\/bachelor-of-arts-ba-applied-mathematics-181944\",\"7\":\"https:\\/\\/collegedunia.com\\/usa\\/college\\/1090-harvard-university-cambridge\\/master-of-science-ms-applied-computation-181892\",\"8\":\"https:\\/\\/collegedunia.com\\/usa\\/college\\/1090-harvard-university-cambridge\\/master-of-law-llm-189139\",\"9\":\"https:\\/\\/collegedunia.com\\/usa\\/college\\/1090-harvard-university-cambridge\\/doctor-of-philosophy-phd-computer-science-179948\",\"10\":\"https:\\/\\/collegedunia.com\\/usa\\/college\\/1090-harvard-university-cambridge\\/bachelor-of-science-bs-electrical-engineering-181882\",\"11\":\"https:\\/\\/collegedunia.com\\/usa\\/college\\/1090-harvard-university-cambridge\\/master-of-architecture-march-181813\",\"12\":\"https:\\/\\/collegedunia.com\\/usa\\/college\\/1090-harvard-university-cambridge\\/master-of-engineering-meng-design-engineering-181840\",\"13\":\"https:\\/\\/collegedunia.com\\/usa\\/college\\/1090-harvard-university-cambridge\\/bachelor-of-arts-ba-computer-science-181881\",\"14\":\"https:\\/\\/collegedunia.com\\/usa\\/college\\/1090-harvard-university-cambridge\\/master-of-science-ms-health-data-science-181931\",\"15\":\"https:\\/\\/collegedunia.com\\/usa\\/college\\/1090-harvard-university-cambridge\\/bachelor-of-arts-ba-theater-dance-and-media-181772\",\"16\":\"https:\\/\\/collegedunia.com\\/usa\\/college\\/1090-harvard-university-cambridge\\/doctor-of-philosophy-phd-electrical-engineering-179952\",\"17\":\"https:\\/\\/collegedunia.com\\/usa\\/college\\/1090-harvard-university-cambridge\\/bachelor-of-arts-ba-biomedical-engineering-181879\",\"18\":\"https:\\/\\/collegedunia.com\\/usa\\/college\\/1090-harvard-university-cambridge\\/master-of-science-ms-biostatistics-181930\",\"19\":\"https:\\/\\/collegedunia.com\\/usa\\/college\\/1090-harvard-university-cambridge\\/programs?course_id=179895\",\"20\":\"https:\\/\\/collegedunia.com\\/usa\\/college\\/1090-harvard-university-cambridge\\/doctor-of-philosophy-phd-neuroscience-179992\",\"21\":\"https:\\/\\/collegedunia.com\\/usa\\/college\\/1090-harvard-university-cambridge\\/bachelor-of-science-bs-neurobiology-181765\",\"22\":\"https:\\/\\/collegedunia.com\\/usa\\/college\\/1090-harvard-university-cambridge\\/doctor-of-philosophy-phd-business-administration-179943\",\"23\":\"https:\\/\\/collegedunia.com\\/usa\\/college\\/1090-harvard-university-cambridge\\/bachelor-of-science-bs-materials-science-and-mechanical-engineering-208266\",\"24\":\"https:\\/\\/collegedunia.com\\/usa\\/college\\/1090-harvard-university-cambridge\\/master-of-science-ms-public-health-research-216194\",\"25\":\"https:\\/\\/collegedunia.com\\/usa\\/college\\/1090-harvard-university-cambridge\\/doctor-of-philosophy-phd-computer-science-215167\",\"26\":\"https:\\/\\/collegedunia.com\\/usa\\/college\\/1090-harvard-university-cambridge\\/doctor-of-philosophy-phd-molecular-and-cellular-biology-179988\",\"27\":\"https:\\/\\/collegedunia.com\\/usa\\/college\\/1090-harvard-university-cambridge\\/bachelor-of-science-bs-environmental-science-and-engineering-181910\",\"28\":\"https:\\/\\/collegedunia.com\\/usa\\/college\\/1090-harvard-university-cambridge\\/bachelor-of-science-bs-bioengineering-208264\",\"29\":\"https:\\/\\/collegedunia.com\\/usa\\/college\\/1090-harvard-university-cambridge\\/doctor-of-philosophy-phd-statistics-181806\",\"30\":\"https:\\/\\/collegedunia.com\\/usa\\/college\\/1090-harvard-university-cambridge\\/master-liberal-arts-data-science-179908\",\"31\":\"https:\\/\\/collegedunia.com\\/usa\\/college\\/1090-harvard-university-cambridge\\/master-liberal-arts-information-management-systems-179910\",\"32\":\"https:\\/\\/collegedunia.com\\/usa\\/college\\/1090-harvard-university-cambridge\\/master-liberal-arts-english-181958\",\"33\":\"https:\\/\\/collegedunia.com\\/usa\\/college\\/1090-harvard-university-cambridge\\/master-liberal-arts-finance-179899\",\"34\":\"https:\\/\\/collegedunia.com\\/usa\\/college\\/1090-harvard-university-cambridge\\/programs?course_id=179905\",\"35\":\"https:\\/\\/collegedunia.com\\/usa\\/college\\/1090-harvard-university-cambridge\\/programs?course_id=179930\",\"36\":\"https:\\/\\/collegedunia.com\\/usa\\/college\\/1090-harvard-university-cambridge\\/programs?course_id=181562\",\"37\":\"https:\\/\\/collegedunia.com\\/usa\\/college\\/1090-harvard-university-cambridge\\/programs?course_id=181734\",\"38\":\"https:\\/\\/collegedunia.com\\/usa\\/college\\/1090-harvard-university-cambridge\\/programs?course_id=181737\",\"39\":\"https:\\/\\/collegedunia.com\\/usa\\/college\\/1090-harvard-university-cambridge\\/programs?course_id=181749\",\"40\":\"https:\\/\\/collegedunia.com\\/usa\\/college\\/1090-harvard-university-cambridge\\/programs?course_id=181751\",\"41\":\"https:\\/\\/collegedunia.com\\/usa\\/college\\/1090-harvard-university-cambridge\\/programs?course_id=181755\",\"42\":\"https:\\/\\/collegedunia.com\\/usa\\/college\\/1090-harvard-university-cambridge\\/programs?course_id=181795\",\"43\":\"https:\\/\\/collegedunia.com\\/usa\\/college\\/1090-harvard-university-cambridge\\/master-in-landscape-architecture-181815\",\"44\":\"https:\\/\\/collegedunia.com\\/usa\\/college\\/1090-harvard-university-cambridge\\/programs?course_id=181818\",\"45\":\"https:\\/\\/collegedunia.com\\/usa\\/college\\/1090-harvard-university-cambridge\\/programs?course_id=181821\",\"46\":\"https:\\/\\/collegedunia.com\\/usa\\/college\\/1090-harvard-university-cambridge\\/programs?course_id=181837\",\"47\":\"https:\\/\\/collegedunia.com\\/usa\\/college\\/1090-harvard-university-cambridge\\/bachelor-of-science-bs-mechanical-engineering-181886\",\"48\":\"https:\\/\\/collegedunia.com\\/usa\\/college\\/1090-harvard-university-cambridge\\/master-of-science-ms-computational-science-and-engineering-181890\",\"49\":\"https:\\/\\/collegedunia.com\\/usa\\/college\\/1090-harvard-university-cambridge\\/programs?course_id=181922\",\"50\":\"https:\\/\\/collegedunia.com\\/usa\\/college\\/1090-harvard-university-cambridge\\/programs?course_id=181923\",\"51\":\"https:\\/\\/collegedunia.com\\/usa\\/college\\/1090-harvard-university-cambridge\\/programs?course_id=181924\",\"52\":\"https:\\/\\/collegedunia.com\\/usa\\/college\\/1090-harvard-university-cambridge\\/master-of-medical-science-mmedsc-immunology-181927\",\"53\":\"https:\\/\\/collegedunia.com\\/usa\\/college\\/1090-harvard-university-cambridge\\/programs?course_id=181928\",\"54\":\"https:\\/\\/collegedunia.com\\/usa\\/college\\/1090-harvard-university-cambridge\\/programs?course_id=181929\",\"55\":\"https:\\/\\/collegedunia.com\\/usa\\/college\\/1090-harvard-university-cambridge\\/bachelor-of-science-bs-engineering-sciences-181947\",\"56\":\"https:\\/\\/collegedunia.com\\/usa\\/college\\/1090-harvard-university-cambridge\\/programs?course_id=181957\",\"57\":\"https:\\/\\/collegedunia.com\\/usa\\/college\\/1090-harvard-university-cambridge\\/programs?course_id=181963\",\"58\":\"https:\\/\\/collegedunia.com\\/usa\\/college\\/1090-harvard-university-cambridge\\/programs?course_id=181968\",\"59\":\"https:\\/\\/collegedunia.com\\/usa\\/college\\/1090-harvard-university-cambridge\\/programs?course_id=181969\",\"60\":\"https:\\/\\/collegedunia.com\\/usa\\/college\\/1090-harvard-university-cambridge\\/master-of-public-policy-mpp-182034\",\"61\":\"https:\\/\\/collegedunia.com\\/usa\\/college\\/1090-harvard-university-cambridge\\/master-of-public-administration-mpa-182036\",\"62\":\"https:\\/\\/collegedunia.com\\/usa\\/college\\/1090-harvard-university-cambridge\\/programs?course_id=182037\",\"63\":\"https:\\/\\/collegedunia.com\\/usa\\/college\\/1090-harvard-university-cambridge\\/programs?course_id=182092\",\"64\":\"https:\\/\\/collegedunia.com\\/usa\\/college\\/1090-harvard-university-cambridge\\/programs?course_id=208279\",\"65\":\"https:\\/\\/collegedunia.com\\/usa\\/college\\/1090-harvard-university-cambridge\\/programs?course_id=208282\",\"66\":\"https:\\/\\/collegedunia.com\\/usa\\/college\\/1090-harvard-university-cambridge\\/master-of-divinity-mdiv-208293\",\"67\":\"https:\\/\\/collegedunia.com\\/usa\\/college\\/1090-harvard-university-cambridge\\/master-of-theology-mth-208294\",\"68\":\"https:\\/\\/collegedunia.com\\/usa\\/college\\/1090-harvard-university-cambridge\\/programs?course_id=208297\",\"69\":\"https:\\/\\/collegedunia.com\\/usa\\/college\\/1090-harvard-university-cambridge\\/bachelor-of-science-bs-physics-211060\",\"70\":\"https:\\/\\/collegedunia.com\\/usa\\/college\\/1090-harvard-university-cambridge\\/bachelor-of-arts-ba-sociology-211061\",\"71\":\"https:\\/\\/collegedunia.com\\/usa\\/college\\/1090-harvard-university-cambridge\\/bachelor-of-arts-ba-philosophy-211063\",\"72\":\"https:\\/\\/collegedunia.com\\/usa\\/college\\/1090-harvard-university-cambridge\\/bachelor-of-science-bs-statistics-211064\",\"73\":\"https:\\/\\/collegedunia.com\\/usa\\/college\\/1090-harvard-university-cambridge\\/bachelor-of-science-bs-psychology-211065\",\"74\":\"https:\\/\\/collegedunia.com\\/usa\\/college\\/1090-harvard-university-cambridge\\/programs?course_id=212405\",\"75\":\"https:\\/\\/collegedunia.com\\/usa\\/college\\/1090-harvard-university-cambridge\\/programs?course_id=216195\",\"76\":\"https:\\/\\/collegedunia.com\\/usa\\/college\\/1090-harvard-university-cambridge\\/programs?course_id=216196\",\"77\":\"https:\\/\\/collegedunia.com\\/usa\\/college\\/1090-harvard-university-cambridge\\/programs?course_id=216197\",\"78\":\"https:\\/\\/collegedunia.com\\/usa\\/college\\/1090-harvard-university-cambridge\\/programs?course_id=216329\",\"79\":\"https:\\/\\/collegedunia.com\\/usa\\/college\\/1090-harvard-university-cambridge\\/programs?course_id=216330\",\"80\":\"https:\\/\\/collegedunia.com\\/usa\\/college\\/1090-harvard-university-cambridge\\/programs?course_id=216331\",\"81\":\"https:\\/\\/collegedunia.com\\/usa\\/college\\/1090-harvard-university-cambridge\\/programs?course_id=216332\",\"82\":\"https:\\/\\/collegedunia.com\\/usa\\/college\\/1090-harvard-university-cambridge\\/programs?course_id=216333\",\"83\":\"https:\\/\\/collegedunia.com\\/usa\\/college\\/1090-harvard-university-cambridge\\/programs?course_id=216334\",\"84\":\"https:\\/\\/collegedunia.com\\/usa\\/college\\/1090-harvard-university-cambridge\\/programs?course_id=216335\",\"85\":\"https:\\/\\/collegedunia.com\\/usa\\/college\\/1090-harvard-university-cambridge\\/programs?course_id=216336\",\"86\":\"https:\\/\\/collegedunia.com\\/usa\\/college\\/1090-harvard-university-cambridge\\/programs?course_id=216337\",\"87\":\"https:\\/\\/collegedunia.com\\/usa\\/college\\/1090-harvard-university-cambridge\\/programs?course_id=216338\",\"88\":\"https:\\/\\/collegedunia.com\\/usa\\/college\\/1090-harvard-university-cambridge\\/programs?course_id=216354\",\"89\":\"https:\\/\\/collegedunia.com\\/usa\\/college\\/1090-harvard-university-cambridge\\/programs?course_id=216355\",\"90\":\"https:\\/\\/collegedunia.com\\/usa\\/college\\/1090-harvard-university-cambridge\\/programs?course_id=216356\",\"91\":\"https:\\/\\/collegedunia.com\\/usa\\/college\\/1090-harvard-university-cambridge\\/programs?course_id=216359\",\"92\":\"https:\\/\\/collegedunia.com\\/usa\\/college\\/1090-harvard-university-cambridge\\/programs?course_id=216368\",\"93\":\"https:\\/\\/collegedunia.com\\/usa\\/college\\/1090-harvard-university-cambridge\\/programs?course_id=216369\",\"94\":\"https:\\/\\/collegedunia.com\\/usa\\/college\\/1090-harvard-university-cambridge\\/programs?course_id=216371\",\"95\":\"https:\\/\\/collegedunia.com\\/usa\\/college\\/1090-harvard-university-cambridge\\/programs?course_id=216372\",\"96\":\"https:\\/\\/collegedunia.com\\/usa\\/college\\/1090-harvard-university-cambridge\\/programs?course_id=216373\",\"97\":\"https:\\/\\/collegedunia.com\\/usa\\/college\\/1090-harvard-university-cambridge\\/programs?course_id=216374\",\"98\":\"https:\\/\\/collegedunia.com\\/usa\\/college\\/1090-harvard-university-cambridge\\/programs?course_id=216375\",\"99\":\"https:\\/\\/collegedunia.com\\/usa\\/college\\/1090-harvard-university-cambridge\\/programs?course_id=216378\",\"100\":\"https:\\/\\/collegedunia.com\\/usa\\/college\\/1090-harvard-university-cambridge\\/programs?course_id=216443\",\"101\":\"https:\\/\\/collegedunia.com\\/usa\\/college\\/1090-harvard-university-cambridge\\/programs?course_id=216444\"},\"Program\":{\"0\":\"M.S Data Science\",\"1\":\"M.B.A\",\"2\":\"M.Arch\",\"3\":\"M.S Computational Science and Engineering\",\"4\":\"M.S Biomedical Informatics\",\"5\":\"M.S Biostatistics\",\"6\":\"L.L.M\",\"7\":\"M.B.A Entrepreneurship\",\"8\":\"M.S Applied Computation\",\"9\":\"M.Eng Computational Science and Engineering\",\"10\":\"M.P.A International Development\",\"11\":\"M.S Medical Sciences - Global Health Delivery\",\"12\":\"M.Med.Sc Immunology\",\"13\":\"M.B.A Finance\",\"14\":null,\"15\":null,\"16\":null,\"17\":null,\"18\":null,\"19\":null,\"20\":null,\"21\":null,\"22\":null,\"23\":null,\"24\":null,\"25\":null,\"26\":null,\"27\":null,\"28\":null,\"29\":null,\"30\":null,\"31\":null,\"32\":null,\"33\":null,\"34\":null,\"35\":null,\"36\":null,\"37\":null,\"38\":null,\"39\":null,\"40\":null,\"41\":null,\"42\":null,\"43\":null,\"44\":null,\"45\":null,\"46\":null,\"47\":null,\"48\":null,\"49\":null,\"50\":null,\"51\":null,\"52\":null,\"53\":null,\"54\":null,\"55\":null,\"56\":null,\"57\":null,\"58\":null,\"59\":null,\"60\":null,\"61\":null,\"62\":null,\"63\":null,\"64\":null,\"65\":null,\"66\":null,\"67\":null,\"68\":null,\"69\":null,\"70\":null,\"71\":null,\"72\":null,\"73\":null,\"74\":null,\"75\":null,\"76\":null,\"77\":null,\"78\":null,\"79\":null,\"80\":null,\"81\":null,\"82\":null,\"83\":null,\"84\":null,\"85\":null,\"86\":null,\"87\":null,\"88\":null,\"89\":null,\"90\":null,\"91\":null,\"92\":null,\"93\":null,\"94\":null,\"95\":null,\"96\":null,\"97\":null,\"98\":null,\"99\":null,\"100\":null,\"101\":null},\"Application Deadline\":{\"0\":\"Application Deadline for Fall Semester 2023[1 Dec, 2022] Application Deadline for Spring Semester 2023[15 Apr, 2023]\",\"1\":\"Financial Aid Application Deadline For Summer[1 Jun, 2023] Financial Aid Application Deadline For Spring[1 Mar, 2023] Financial Aid Application Deadline For Fall[1 Nov, 2022] Application Deadline For Summer 2023 Intake[1 Aug, 2023] Application Deadline For Spring 2023 Intake[15 Apr, 2023] Application Deadline For Fall 2023[1 Dec, 2022]\",\"2\":\"Application Deadline for Fall Semester 2023[1 Dec, 2022] Application Deadline for Spring Semester 2023[15 Apr, 2023]\",\"3\":\"Application Deadline for Fall Semester 2023[1 Dec, 2022] Application Deadline for Spring Semester 2023[15 Apr, 2023]\",\"4\":\"Application Deadline for Fall Semester 2023[1 Dec, 2022] Application Deadline for Spring Semester 2023[15 Apr, 2023]\",\"5\":\"Application Deadline for Fall Semester 2023[1 Dec, 2022] Application Deadline for Spring Semester 2023[15 Apr, 2023]\",\"6\":\"Application Deadline for Fall Semester 2023[1 Dec, 2022] Application Deadline for Spring Semester 2023[15 Apr, 2023]\",\"7\":\"Application Deadline for Fall Semester 2023[1 Dec, 2022] Application Deadline for Spring Semester 2023[15 Apr, 2023]\",\"8\":\"Application Deadline for Fall Semester 2023[1 Dec, 2022] Application Deadline for Spring Semester 2023[15 Apr, 2023]\",\"9\":\"Application Deadline for Fall Semester 2023[1 Dec, 2022] Application Deadline for Spring Semester 2023[15 Apr, 2023]\",\"10\":\"Application Deadline for Fall Semester 2023[1 Dec, 2022] Application Deadline for Spring Semester 2023[15 Apr, 2023]\",\"11\":\"Application Deadline for Fall Semester 2023[1 Dec, 2022] Application Deadline for Spring Semester 2023[15 Apr, 2023]\",\"12\":\"Application Deadline for Fall Semester 2023[1 Dec, 2022] Application Deadline for Spring Semester 2023[15 Apr, 2023]\",\"13\":\"Application Deadline for Fall Semester 2023[1 Dec, 2022] Application Deadline for Spring Semester 2023[15 Apr, 2023]\",\"14\":null,\"15\":null,\"16\":null,\"17\":null,\"18\":null,\"19\":null,\"20\":null,\"21\":null,\"22\":null,\"23\":null,\"24\":null,\"25\":null,\"26\":null,\"27\":null,\"28\":null,\"29\":null,\"30\":null,\"31\":null,\"32\":null,\"33\":null,\"34\":null,\"35\":null,\"36\":null,\"37\":null,\"38\":null,\"39\":null,\"40\":null,\"41\":null,\"42\":null,\"43\":null,\"44\":null,\"45\":null,\"46\":null,\"47\":null,\"48\":null,\"49\":null,\"50\":null,\"51\":null,\"52\":null,\"53\":null,\"54\":null,\"55\":null,\"56\":null,\"57\":null,\"58\":null,\"59\":null,\"60\":null,\"61\":null,\"62\":null,\"63\":null,\"64\":null,\"65\":null,\"66\":null,\"67\":null,\"68\":null,\"69\":null,\"70\":null,\"71\":null,\"72\":null,\"73\":null,\"74\":null,\"75\":null,\"76\":null,\"77\":null,\"78\":null,\"79\":null,\"80\":null,\"81\":null,\"82\":null,\"83\":null,\"84\":null,\"85\":null,\"86\":null,\"87\":null,\"88\":null,\"89\":null,\"90\":null,\"91\":null,\"92\":null,\"93\":null,\"94\":null,\"95\":null,\"96\":null,\"97\":null,\"98\":null,\"99\":null,\"100\":null,\"101\":null},\"Harvard Colleges\":{\"0\":\"Harvard College\",\"1\":\"Harvard Law School\",\"2\":\"Harvard Business School\",\"3\":\"Harvard Kennedy School\",\"4\":\"Harvard Graduate Schools\",\"5\":null,\"6\":null,\"7\":null,\"8\":null,\"9\":null,\"10\":null,\"11\":null,\"12\":null,\"13\":null,\"14\":null,\"15\":null,\"16\":null,\"17\":null,\"18\":null,\"19\":null,\"20\":null,\"21\":null,\"22\":null,\"23\":null,\"24\":null,\"25\":null,\"26\":null,\"27\":null,\"28\":null,\"29\":null,\"30\":null,\"31\":null,\"32\":null,\"33\":null,\"34\":null,\"35\":null,\"36\":null,\"37\":null,\"38\":null,\"39\":null,\"40\":null,\"41\":null,\"42\":null,\"43\":null,\"44\":null,\"45\":null,\"46\":null,\"47\":null,\"48\":null,\"49\":null,\"50\":null,\"51\":null,\"52\":null,\"53\":null,\"54\":null,\"55\":null,\"56\":null,\"57\":null,\"58\":null,\"59\":null,\"60\":null,\"61\":null,\"62\":null,\"63\":null,\"64\":null,\"65\":null,\"66\":null,\"67\":null,\"68\":null,\"69\":null,\"70\":null,\"71\":null,\"72\":null,\"73\":null,\"74\":null,\"75\":null,\"76\":null,\"77\":null,\"78\":null,\"79\":null,\"80\":null,\"81\":null,\"82\":null,\"83\":null,\"84\":null,\"85\":null,\"86\":null,\"87\":null,\"88\":null,\"89\":null,\"90\":null,\"91\":null,\"92\":null,\"93\":null,\"94\":null,\"95\":null,\"96\":null,\"97\":null,\"98\":null,\"99\":null,\"100\":null,\"101\":null},\"Exams Requirement\":{\"0\":\"SAT or ACT (with or without writing)\",\"1\":\"LSAT\",\"2\":\"GRE or GMAT\",\"3\":\"GRE or GMAT\",\"4\":\"GRE\",\"5\":null,\"6\":null,\"7\":null,\"8\":null,\"9\":null,\"10\":null,\"11\":null,\"12\":null,\"13\":null,\"14\":null,\"15\":null,\"16\":null,\"17\":null,\"18\":null,\"19\":null,\"20\":null,\"21\":null,\"22\":null,\"23\":null,\"24\":null,\"25\":null,\"26\":null,\"27\":null,\"28\":null,\"29\":null,\"30\":null,\"31\":null,\"32\":null,\"33\":null,\"34\":null,\"35\":null,\"36\":null,\"37\":null,\"38\":null,\"39\":null,\"40\":null,\"41\":null,\"42\":null,\"43\":null,\"44\":null,\"45\":null,\"46\":null,\"47\":null,\"48\":null,\"49\":null,\"50\":null,\"51\":null,\"52\":null,\"53\":null,\"54\":null,\"55\":null,\"56\":null,\"57\":null,\"58\":null,\"59\":null,\"60\":null,\"61\":null,\"62\":null,\"63\":null,\"64\":null,\"65\":null,\"66\":null,\"67\":null,\"68\":null,\"69\":null,\"70\":null,\"71\":null,\"72\":null,\"73\":null,\"74\":null,\"75\":null,\"76\":null,\"77\":null,\"78\":null,\"79\":null,\"80\":null,\"81\":null,\"82\":null,\"83\":null,\"84\":null,\"85\":null,\"86\":null,\"87\":null,\"88\":null,\"89\":null,\"90\":null,\"91\":null,\"92\":null,\"93\":null,\"94\":null,\"95\":null,\"96\":null,\"97\":null,\"98\":null,\"99\":null,\"100\":null,\"101\":null},\"Category\":{\"0\":\"Portal\",\"1\":\"Deadline\",\"2\":\"Application fee\",\"3\":\"LOR\",\"4\":\"Work experience\",\"5\":\"GRE\",\"6\":\"Writing sample\",\"7\":\"SOP for USA\",\"8\":\"Resume\\/ CV\",\"9\":null,\"10\":null,\"11\":null,\"12\":null,\"13\":null,\"14\":null,\"15\":null,\"16\":null,\"17\":null,\"18\":null,\"19\":null,\"20\":null,\"21\":null,\"22\":null,\"23\":null,\"24\":null,\"25\":null,\"26\":null,\"27\":null,\"28\":null,\"29\":null,\"30\":null,\"31\":null,\"32\":null,\"33\":null,\"34\":null,\"35\":null,\"36\":null,\"37\":null,\"38\":null,\"39\":null,\"40\":null,\"41\":null,\"42\":null,\"43\":null,\"44\":null,\"45\":null,\"46\":null,\"47\":null,\"48\":null,\"49\":null,\"50\":null,\"51\":null,\"52\":null,\"53\":null,\"54\":null,\"55\":null,\"56\":null,\"57\":null,\"58\":null,\"59\":null,\"60\":null,\"61\":null,\"62\":null,\"63\":null,\"64\":null,\"65\":null,\"66\":null,\"67\":null,\"68\":null,\"69\":null,\"70\":null,\"71\":null,\"72\":null,\"73\":null,\"74\":null,\"75\":null,\"76\":null,\"77\":null,\"78\":null,\"79\":null,\"80\":null,\"81\":null,\"82\":null,\"83\":null,\"84\":null,\"85\":null,\"86\":null,\"87\":null,\"88\":null,\"89\":null,\"90\":null,\"91\":null,\"92\":null,\"93\":null,\"94\":null,\"95\":null,\"96\":null,\"97\":null,\"98\":null,\"99\":null,\"100\":null,\"101\":null},\"Master in Data Science\":{\"0\":\"GSAS Application\",\"1\":\"December 1, 2023\",\"2\":\"105 USD\",\"3\":\"3\",\"4\":\"Preferred\",\"5\":\"Not required\",\"6\":\"Not required\",\"7\":\"Required\",\"8\":\"Required\",\"9\":null,\"10\":null,\"11\":null,\"12\":null,\"13\":null,\"14\":null,\"15\":null,\"16\":null,\"17\":null,\"18\":null,\"19\":null,\"20\":null,\"21\":null,\"22\":null,\"23\":null,\"24\":null,\"25\":null,\"26\":null,\"27\":null,\"28\":null,\"29\":null,\"30\":null,\"31\":null,\"32\":null,\"33\":null,\"34\":null,\"35\":null,\"36\":null,\"37\":null,\"38\":null,\"39\":null,\"40\":null,\"41\":null,\"42\":null,\"43\":null,\"44\":null,\"45\":null,\"46\":null,\"47\":null,\"48\":null,\"49\":null,\"50\":null,\"51\":null,\"52\":null,\"53\":null,\"54\":null,\"55\":null,\"56\":null,\"57\":null,\"58\":null,\"59\":null,\"60\":null,\"61\":null,\"62\":null,\"63\":null,\"64\":null,\"65\":null,\"66\":null,\"67\":null,\"68\":null,\"69\":null,\"70\":null,\"71\":null,\"72\":null,\"73\":null,\"74\":null,\"75\":null,\"76\":null,\"77\":null,\"78\":null,\"79\":null,\"80\":null,\"81\":null,\"82\":null,\"83\":null,\"84\":null,\"85\":null,\"86\":null,\"87\":null,\"88\":null,\"89\":null,\"90\":null,\"91\":null,\"92\":null,\"93\":null,\"94\":null,\"95\":null,\"96\":null,\"97\":null,\"98\":null,\"99\":null,\"100\":null,\"101\":null},\"M.Sc. in Computational Science\":{\"0\":\"School of Engineering and Applied Sciences\",\"1\":\"December 1, 2023\",\"2\":\"105 USD\",\"3\":\"3\",\"4\":\"Preferred\",\"5\":\"Optional\",\"6\":\"Supplemental Data form\",\"7\":\"Required\",\"8\":\"Required\",\"9\":null,\"10\":null,\"11\":null,\"12\":null,\"13\":null,\"14\":null,\"15\":null,\"16\":null,\"17\":null,\"18\":null,\"19\":null,\"20\":null,\"21\":null,\"22\":null,\"23\":null,\"24\":null,\"25\":null,\"26\":null,\"27\":null,\"28\":null,\"29\":null,\"30\":null,\"31\":null,\"32\":null,\"33\":null,\"34\":null,\"35\":null,\"36\":null,\"37\":null,\"38\":null,\"39\":null,\"40\":null,\"41\":null,\"42\":null,\"43\":null,\"44\":null,\"45\":null,\"46\":null,\"47\":null,\"48\":null,\"49\":null,\"50\":null,\"51\":null,\"52\":null,\"53\":null,\"54\":null,\"55\":null,\"56\":null,\"57\":null,\"58\":null,\"59\":null,\"60\":null,\"61\":null,\"62\":null,\"63\":null,\"64\":null,\"65\":null,\"66\":null,\"67\":null,\"68\":null,\"69\":null,\"70\":null,\"71\":null,\"72\":null,\"73\":null,\"74\":null,\"75\":null,\"76\":null,\"77\":null,\"78\":null,\"79\":null,\"80\":null,\"81\":null,\"82\":null,\"83\":null,\"84\":null,\"85\":null,\"86\":null,\"87\":null,\"88\":null,\"89\":null,\"90\":null,\"91\":null,\"92\":null,\"93\":null,\"94\":null,\"95\":null,\"96\":null,\"97\":null,\"98\":null,\"99\":null,\"100\":null,\"101\":null},\"Masters of Biomedical Informatics\":{\"0\":\"Harvard Medical School\",\"1\":\"March 4, 2023\",\"2\":\"100 USD\",\"3\":\"2\",\"4\":\"Required\",\"5\":\"Optional\",\"6\":\"Required\",\"7\":\"Limited to 500-750 words\",\"8\":\"Required\",\"9\":null,\"10\":null,\"11\":null,\"12\":null,\"13\":null,\"14\":null,\"15\":null,\"16\":null,\"17\":null,\"18\":null,\"19\":null,\"20\":null,\"21\":null,\"22\":null,\"23\":null,\"24\":null,\"25\":null,\"26\":null,\"27\":null,\"28\":null,\"29\":null,\"30\":null,\"31\":null,\"32\":null,\"33\":null,\"34\":null,\"35\":null,\"36\":null,\"37\":null,\"38\":null,\"39\":null,\"40\":null,\"41\":null,\"42\":null,\"43\":null,\"44\":null,\"45\":null,\"46\":null,\"47\":null,\"48\":null,\"49\":null,\"50\":null,\"51\":null,\"52\":null,\"53\":null,\"54\":null,\"55\":null,\"56\":null,\"57\":null,\"58\":null,\"59\":null,\"60\":null,\"61\":null,\"62\":null,\"63\":null,\"64\":null,\"65\":null,\"66\":null,\"67\":null,\"68\":null,\"69\":null,\"70\":null,\"71\":null,\"72\":null,\"73\":null,\"74\":null,\"75\":null,\"76\":null,\"77\":null,\"78\":null,\"79\":null,\"80\":null,\"81\":null,\"82\":null,\"83\":null,\"84\":null,\"85\":null,\"86\":null,\"87\":null,\"88\":null,\"89\":null,\"90\":null,\"91\":null,\"92\":null,\"93\":null,\"94\":null,\"95\":null,\"96\":null,\"97\":null,\"98\":null,\"99\":null,\"100\":null,\"101\":null},\"Master of Architecture\":{\"0\":\"Graduate School of Design\",\"1\":\"January 4, 2023\",\"2\":\"105 USD\",\"3\":\"3\",\"4\":\"Preferred\",\"5\":\"Required\",\"6\":\"approximately 600 words\",\"7\":\"-\",\"8\":\"Required along with a Portfolio\",\"9\":null,\"10\":null,\"11\":null,\"12\":null,\"13\":null,\"14\":null,\"15\":null,\"16\":null,\"17\":null,\"18\":null,\"19\":null,\"20\":null,\"21\":null,\"22\":null,\"23\":null,\"24\":null,\"25\":null,\"26\":null,\"27\":null,\"28\":null,\"29\":null,\"30\":null,\"31\":null,\"32\":null,\"33\":null,\"34\":null,\"35\":null,\"36\":null,\"37\":null,\"38\":null,\"39\":null,\"40\":null,\"41\":null,\"42\":null,\"43\":null,\"44\":null,\"45\":null,\"46\":null,\"47\":null,\"48\":null,\"49\":null,\"50\":null,\"51\":null,\"52\":null,\"53\":null,\"54\":null,\"55\":null,\"56\":null,\"57\":null,\"58\":null,\"59\":null,\"60\":null,\"61\":null,\"62\":null,\"63\":null,\"64\":null,\"65\":null,\"66\":null,\"67\":null,\"68\":null,\"69\":null,\"70\":null,\"71\":null,\"72\":null,\"73\":null,\"74\":null,\"75\":null,\"76\":null,\"77\":null,\"78\":null,\"79\":null,\"80\":null,\"81\":null,\"82\":null,\"83\":null,\"84\":null,\"85\":null,\"86\":null,\"87\":null,\"88\":null,\"89\":null,\"90\":null,\"91\":null,\"92\":null,\"93\":null,\"94\":null,\"95\":null,\"96\":null,\"97\":null,\"98\":null,\"99\":null,\"100\":null,\"101\":null},\"Master of Public Health\":{\"0\":\"School of Public Health\",\"1\":\"December 1, 2023\",\"2\":\"50 USD\",\"3\":\"3\",\"4\":\"-\",\"5\":\"Not required\",\"6\":\"-\",\"7\":\"Not exceed 600 words\",\"8\":\"Required\",\"9\":null,\"10\":null,\"11\":null,\"12\":null,\"13\":null,\"14\":null,\"15\":null,\"16\":null,\"17\":null,\"18\":null,\"19\":null,\"20\":null,\"21\":null,\"22\":null,\"23\":null,\"24\":null,\"25\":null,\"26\":null,\"27\":null,\"28\":null,\"29\":null,\"30\":null,\"31\":null,\"32\":null,\"33\":null,\"34\":null,\"35\":null,\"36\":null,\"37\":null,\"38\":null,\"39\":null,\"40\":null,\"41\":null,\"42\":null,\"43\":null,\"44\":null,\"45\":null,\"46\":null,\"47\":null,\"48\":null,\"49\":null,\"50\":null,\"51\":null,\"52\":null,\"53\":null,\"54\":null,\"55\":null,\"56\":null,\"57\":null,\"58\":null,\"59\":null,\"60\":null,\"61\":null,\"62\":null,\"63\":null,\"64\":null,\"65\":null,\"66\":null,\"67\":null,\"68\":null,\"69\":null,\"70\":null,\"71\":null,\"72\":null,\"73\":null,\"74\":null,\"75\":null,\"76\":null,\"77\":null,\"78\":null,\"79\":null,\"80\":null,\"81\":null,\"82\":null,\"83\":null,\"84\":null,\"85\":null,\"86\":null,\"87\":null,\"88\":null,\"89\":null,\"90\":null,\"91\":null,\"92\":null,\"93\":null,\"94\":null,\"95\":null,\"96\":null,\"97\":null,\"98\":null,\"99\":null,\"100\":null,\"101\":null},\"Ranked By\":{\"0\":\"ARWU (Shanghai Ranking) - Universities Rankings\",\"1\":\"QS - World University Ranking\",\"2\":\"THE - University Ranking\",\"3\":\"US News - Global Universities\",\"4\":\"US News - National University Ranking\",\"5\":\"Bloomberg - Best Business School USA\",\"6\":\"FT -MBA Ranking\",\"7\":\"QS - Accounting & Finance\",\"8\":\"QS - Global MBA\",\"9\":\"THE - PG Business and Economics\",\"10\":\"US News - Entrepreneurship MBA\",\"11\":\"US News - Finance MBA\",\"12\":\"US News - Graduate Business School\",\"13\":\"US News - MBA Business Analytics\",\"14\":\"QS - Architecture & Built Environment Rankings\",\"15\":\"QS - Engineering and Technology\",\"16\":\"QS - Mechanical Engineering Rankings\",\"17\":\"THE - PG Engineering and Technology\",\"18\":\"US News - Best Engineering Schools\",\"19\":\"THE - PG Computers\",\"20\":\"US News - Computer Engineering PG\",\"21\":\"US News - UG Computer Engineering\",\"22\":\"QS -Computer Science and Information Systems\",\"23\":\"ARWU - Mathematics Rankings\",\"24\":\"ARWU - Physics Rankings\",\"25\":\"QS - Pharmacy & Pharmacology Rankings\",\"26\":\"QS - Physics and Astronomy Rankings\",\"27\":\"QS -Biological Sciences Rankings\",\"28\":\"QS -Mathematics Rankings\",\"29\":\"THE - Life Sciences Rankings\",\"30\":\"THE - Psychology Rankings\",\"31\":\"ARWU - Political Sciences Rankings\",\"32\":\"ARWU - Sociology Ranking\",\"33\":\"QS - Performing Arts Rankings\",\"34\":\"QS - Politics Rankings\",\"35\":\"QS -Sociology Rankings\",\"36\":\"THE - Arts & Humanities Rankings\",\"37\":\"ARWU - Nursing Rankings\",\"38\":\"QS -Medicine Rankings\",\"39\":\"THE - Clinical and Health Rankings\",\"40\":\"US News - Best Graduate Medical Schools\",\"41\":\"ARWU -Law Ranking\",\"42\":\"QS -Law & Legal Studies Rankings\",\"43\":\"THE - Law Rankings\",\"44\":\"US News - Best Graduate Law Schools\",\"45\":null,\"46\":null,\"47\":null,\"48\":null,\"49\":null,\"50\":null,\"51\":null,\"52\":null,\"53\":null,\"54\":null,\"55\":null,\"56\":null,\"57\":null,\"58\":null,\"59\":null,\"60\":null,\"61\":null,\"62\":null,\"63\":null,\"64\":null,\"65\":null,\"66\":null,\"67\":null,\"68\":null,\"69\":null,\"70\":null,\"71\":null,\"72\":null,\"73\":null,\"74\":null,\"75\":null,\"76\":null,\"77\":null,\"78\":null,\"79\":null,\"80\":null,\"81\":null,\"82\":null,\"83\":null,\"84\":null,\"85\":null,\"86\":null,\"87\":null,\"88\":null,\"89\":null,\"90\":null,\"91\":null,\"92\":null,\"93\":null,\"94\":null,\"95\":null,\"96\":null,\"97\":null,\"98\":null,\"99\":null,\"100\":null,\"101\":null},\"2018\":{\"0\":1,\"1\":3,\"2\":6,\"3\":1,\"4\":2,\"5\":3.0,\"6\":5.0,\"7\":1.0,\"8\":1.0,\"9\":6.0,\"10\":3.0,\"11\":8.0,\"12\":1.0,\"13\":null,\"14\":6.0,\"15\":13.0,\"16\":4.0,\"17\":null,\"18\":null,\"19\":11.0,\"20\":null,\"21\":null,\"22\":6.0,\"23\":12,\"24\":7,\"25\":1,\"26\":2,\"27\":1,\"28\":2,\"29\":1,\"30\":4,\"31\":1,\"32\":1,\"33\":10,\"34\":1,\"35\":1,\"36\":3,\"37\":\"51-75\",\"38\":\"1\",\"39\":\"2\",\"40\":\"16\",\"41\":1,\"42\":1,\"43\":9,\"44\":3,\"45\":null,\"46\":null,\"47\":null,\"48\":null,\"49\":null,\"50\":null,\"51\":null,\"52\":null,\"53\":null,\"54\":null,\"55\":null,\"56\":null,\"57\":null,\"58\":null,\"59\":null,\"60\":null,\"61\":null,\"62\":null,\"63\":null,\"64\":null,\"65\":null,\"66\":null,\"67\":null,\"68\":null,\"69\":null,\"70\":null,\"71\":null,\"72\":null,\"73\":null,\"74\":null,\"75\":null,\"76\":null,\"77\":null,\"78\":null,\"79\":null,\"80\":null,\"81\":null,\"82\":null,\"83\":null,\"84\":null,\"85\":null,\"86\":null,\"87\":null,\"88\":null,\"89\":null,\"90\":null,\"91\":null,\"92\":null,\"93\":null,\"94\":null,\"95\":null,\"96\":null,\"97\":null,\"98\":null,\"99\":null,\"100\":null,\"101\":null},\"2019\":{\"0\":1.0,\"1\":3.0,\"2\":6.0,\"3\":1.0,\"4\":2.0,\"5\":3.0,\"6\":2.0,\"7\":1.0,\"8\":2.0,\"9\":7.0,\"10\":4.0,\"11\":7.0,\"12\":3.0,\"13\":null,\"14\":5.0,\"15\":12.0,\"16\":4.0,\"17\":3.0,\"18\":null,\"19\":8.0,\"20\":null,\"21\":25.0,\"22\":7.0,\"23\":12.0,\"24\":8.0,\"25\":2.0,\"26\":2.0,\"27\":1.0,\"28\":2.0,\"29\":1.0,\"30\":7.0,\"31\":1.0,\"32\":1.0,\"33\":8.0,\"34\":1.0,\"35\":1.0,\"36\":5.0,\"37\":41.0,\"38\":1.0,\"39\":2.0,\"40\":12.0,\"41\":1.0,\"42\":1.0,\"43\":7.0,\"44\":3.0,\"45\":null,\"46\":null,\"47\":null,\"48\":null,\"49\":null,\"50\":null,\"51\":null,\"52\":null,\"53\":null,\"54\":null,\"55\":null,\"56\":null,\"57\":null,\"58\":null,\"59\":null,\"60\":null,\"61\":null,\"62\":null,\"63\":null,\"64\":null,\"65\":null,\"66\":null,\"67\":null,\"68\":null,\"69\":null,\"70\":null,\"71\":null,\"72\":null,\"73\":null,\"74\":null,\"75\":null,\"76\":null,\"77\":null,\"78\":null,\"79\":null,\"80\":null,\"81\":null,\"82\":null,\"83\":null,\"84\":null,\"85\":null,\"86\":null,\"87\":null,\"88\":null,\"89\":null,\"90\":null,\"91\":null,\"92\":null,\"93\":null,\"94\":null,\"95\":null,\"96\":null,\"97\":null,\"98\":null,\"99\":null,\"100\":null,\"101\":null},\"2020\":{\"0\":1.0,\"1\":3.0,\"2\":7.0,\"3\":1.0,\"4\":2.0,\"5\":24.0,\"6\":1.0,\"7\":1.0,\"8\":5.0,\"9\":10.0,\"10\":4.0,\"11\":7.0,\"12\":3.0,\"13\":null,\"14\":5.0,\"15\":12.0,\"16\":4.0,\"17\":3.0,\"18\":null,\"19\":7.0,\"20\":null,\"21\":25.0,\"22\":7.0,\"23\":19.0,\"24\":7.0,\"25\":3.0,\"26\":3.0,\"27\":1.0,\"28\":2.0,\"29\":2.0,\"30\":6.0,\"31\":1.0,\"32\":3.0,\"33\":10.0,\"34\":1.0,\"35\":1.0,\"36\":5.0,\"37\":48.0,\"38\":1.0,\"39\":2.0,\"40\":17.0,\"41\":2.0,\"42\":1.0,\"43\":13.0,\"44\":3.0,\"45\":null,\"46\":null,\"47\":null,\"48\":null,\"49\":null,\"50\":null,\"51\":null,\"52\":null,\"53\":null,\"54\":null,\"55\":null,\"56\":null,\"57\":null,\"58\":null,\"59\":null,\"60\":null,\"61\":null,\"62\":null,\"63\":null,\"64\":null,\"65\":null,\"66\":null,\"67\":null,\"68\":null,\"69\":null,\"70\":null,\"71\":null,\"72\":null,\"73\":null,\"74\":null,\"75\":null,\"76\":null,\"77\":null,\"78\":null,\"79\":null,\"80\":null,\"81\":null,\"82\":null,\"83\":null,\"84\":null,\"85\":null,\"86\":null,\"87\":null,\"88\":null,\"89\":null,\"90\":null,\"91\":null,\"92\":null,\"93\":null,\"94\":null,\"95\":null,\"96\":null,\"97\":null,\"98\":null,\"99\":null,\"100\":null,\"101\":null},\"2021\":{\"0\":1,\"1\":3,\"2\":3,\"3\":1,\"4\":2,\"5\":3.0,\"6\":null,\"7\":1.0,\"8\":4.0,\"9\":5.0,\"10\":5.0,\"11\":7.0,\"12\":6.0,\"13\":14.0,\"14\":5,\"15\":11,\"16\":4,\"17\":1,\"18\":24,\"19\":7.0,\"20\":20.0,\"21\":null,\"22\":7.0,\"23\":16,\"24\":6,\"25\":3,\"26\":3,\"27\":1,\"28\":3,\"29\":1,\"30\":6,\"31\":1,\"32\":1,\"33\":12,\"34\":1,\"35\":1,\"36\":6,\"37\":\"51-75\",\"38\":\"1\",\"39\":\"2\",\"40\":\"10\",\"41\":2,\"42\":1,\"43\":9,\"44\":3,\"45\":null,\"46\":null,\"47\":null,\"48\":null,\"49\":null,\"50\":null,\"51\":null,\"52\":null,\"53\":null,\"54\":null,\"55\":null,\"56\":null,\"57\":null,\"58\":null,\"59\":null,\"60\":null,\"61\":null,\"62\":null,\"63\":null,\"64\":null,\"65\":null,\"66\":null,\"67\":null,\"68\":null,\"69\":null,\"70\":null,\"71\":null,\"72\":null,\"73\":null,\"74\":null,\"75\":null,\"76\":null,\"77\":null,\"78\":null,\"79\":null,\"80\":null,\"81\":null,\"82\":null,\"83\":null,\"84\":null,\"85\":null,\"86\":null,\"87\":null,\"88\":null,\"89\":null,\"90\":null,\"91\":null,\"92\":null,\"93\":null,\"94\":null,\"95\":null,\"96\":null,\"97\":null,\"98\":null,\"99\":null,\"100\":null,\"101\":null},\"2022\":{\"0\":1.0,\"1\":5.0,\"2\":2.0,\"3\":1.0,\"4\":2.0,\"5\":2.0,\"6\":3.0,\"7\":1.0,\"8\":2.0,\"9\":5.0,\"10\":5.0,\"11\":8.0,\"12\":5.0,\"13\":21.0,\"14\":5.0,\"15\":12.0,\"16\":4.0,\"17\":1.0,\"18\":21.0,\"19\":7.0,\"20\":22.0,\"21\":null,\"22\":7.0,\"23\":null,\"24\":null,\"25\":null,\"26\":null,\"27\":null,\"28\":null,\"29\":1.0,\"30\":4.0,\"31\":null,\"32\":null,\"33\":null,\"34\":null,\"35\":null,\"36\":6.0,\"37\":null,\"38\":null,\"39\":2.0,\"40\":8.0,\"41\":2.0,\"42\":1.0,\"43\":7.0,\"44\":3.0,\"45\":null,\"46\":null,\"47\":null,\"48\":null,\"49\":null,\"50\":null,\"51\":null,\"52\":null,\"53\":null,\"54\":null,\"55\":null,\"56\":null,\"57\":null,\"58\":null,\"59\":null,\"60\":null,\"61\":null,\"62\":null,\"63\":null,\"64\":null,\"65\":null,\"66\":null,\"67\":null,\"68\":null,\"69\":null,\"70\":null,\"71\":null,\"72\":null,\"73\":null,\"74\":null,\"75\":null,\"76\":null,\"77\":null,\"78\":null,\"79\":null,\"80\":null,\"81\":null,\"82\":null,\"83\":null,\"84\":null,\"85\":null,\"86\":null,\"87\":null,\"88\":null,\"89\":null,\"90\":null,\"91\":null,\"92\":null,\"93\":null,\"94\":null,\"95\":null,\"96\":null,\"97\":null,\"98\":null,\"99\":null,\"100\":null,\"101\":null},\"Scholarships\":{\"0\":\"Boustany MBA Harvard Scholarships\",\"1\":\"Horace W. Goldsmith Fellowship\",\"2\":\"The Robert S. Kaplan Life Sciences Fellowship\",\"3\":\"HGSE Financial Aid\",\"4\":\"Harvard John A. Paulson School of Engineering and Applied Sciences Financial Support\",\"5\":\"The Graduate School of Arts and Sciences Funding\",\"6\":\"International Graduate Student Scholarships and Fellowships\",\"7\":\"Harvard Extension School Grant\",\"8\":\"Harvard School of Dental Medicine Advanced Graduate Education (Postdoctoral) Funds\",\"9\":\"Harvard School of Dental Medicine Predoctoral Funds\",\"10\":null,\"11\":null,\"12\":null,\"13\":null,\"14\":null,\"15\":null,\"16\":null,\"17\":null,\"18\":null,\"19\":null,\"20\":null,\"21\":null,\"22\":null,\"23\":null,\"24\":null,\"25\":null,\"26\":null,\"27\":null,\"28\":null,\"29\":null,\"30\":null,\"31\":null,\"32\":null,\"33\":null,\"34\":null,\"35\":null,\"36\":null,\"37\":null,\"38\":null,\"39\":null,\"40\":null,\"41\":null,\"42\":null,\"43\":null,\"44\":null,\"45\":null,\"46\":null,\"47\":null,\"48\":null,\"49\":null,\"50\":null,\"51\":null,\"52\":null,\"53\":null,\"54\":null,\"55\":null,\"56\":null,\"57\":null,\"58\":null,\"59\":null,\"60\":null,\"61\":null,\"62\":null,\"63\":null,\"64\":null,\"65\":null,\"66\":null,\"67\":null,\"68\":null,\"69\":null,\"70\":null,\"71\":null,\"72\":null,\"73\":null,\"74\":null,\"75\":null,\"76\":null,\"77\":null,\"78\":null,\"79\":null,\"80\":null,\"81\":null,\"82\":null,\"83\":null,\"84\":null,\"85\":null,\"86\":null,\"87\":null,\"88\":null,\"89\":null,\"90\":null,\"91\":null,\"92\":null,\"93\":null,\"94\":null,\"95\":null,\"96\":null,\"97\":null,\"98\":null,\"99\":null,\"100\":null,\"101\":null},\"Eligibility Criteria\":{\"0\":\"Only MBA students can apply,  Excellent academic background,  Satisfactory GMAT score,  CV,  Photograph,  Acceptance letter from Harvard University\",\"1\":\"Full time leadership roles in non-profit or public sector before enrolling to Harvard Business School,  Offered to first-year students only\",\"2\":\"Students planning for careers across -related businesses or organizations are prioritized,  Academic and professional achievements along with recognition from outside organizations are required\",\"3\":\"Admission Application to the Harvard Graduate School of Education or Financial Aid application or both\",\"4\":\"All PhD students  \\u200bIndependent grants and fellowships for master\\u2019s students\",\"5\":\"All PhD students\",\"6\":\"Master\\u2019s students\",\"7\":\"Completed financial aid application,  Demonstrated financial need,  \\u200bSatisfactory academic achievement\",\"8\":\"Dental public health students with competitive academic scores\",\"9\":\"All the enrolled students are automatically considered based on their financial aid application details\",\"10\":null,\"11\":null,\"12\":null,\"13\":null,\"14\":null,\"15\":null,\"16\":null,\"17\":null,\"18\":null,\"19\":null,\"20\":null,\"21\":null,\"22\":null,\"23\":null,\"24\":null,\"25\":null,\"26\":null,\"27\":null,\"28\":null,\"29\":null,\"30\":null,\"31\":null,\"32\":null,\"33\":null,\"34\":null,\"35\":null,\"36\":null,\"37\":null,\"38\":null,\"39\":null,\"40\":null,\"41\":null,\"42\":null,\"43\":null,\"44\":null,\"45\":null,\"46\":null,\"47\":null,\"48\":null,\"49\":null,\"50\":null,\"51\":null,\"52\":null,\"53\":null,\"54\":null,\"55\":null,\"56\":null,\"57\":null,\"58\":null,\"59\":null,\"60\":null,\"61\":null,\"62\":null,\"63\":null,\"64\":null,\"65\":null,\"66\":null,\"67\":null,\"68\":null,\"69\":null,\"70\":null,\"71\":null,\"72\":null,\"73\":null,\"74\":null,\"75\":null,\"76\":null,\"77\":null,\"78\":null,\"79\":null,\"80\":null,\"81\":null,\"82\":null,\"83\":null,\"84\":null,\"85\":null,\"86\":null,\"87\":null,\"88\":null,\"89\":null,\"90\":null,\"91\":null,\"92\":null,\"93\":null,\"94\":null,\"95\":null,\"96\":null,\"97\":null,\"98\":null,\"99\":null,\"100\":null,\"101\":null},\"Award Amount in USD\":{\"0\":\"51,100 USD per annum, 102,200 USD in total\",\"1\":\"10,000 USD\",\"2\":\"20,000 USD in total, 10,000 USD each year\",\"3\":\"Tuition and cost, student loans, work while studying\",\"4\":\"Full financial support for PhD students including tuition, fees, and a monthly cost of living stipend\",\"5\":\"Full financial support for all years Living expense during year 1 and 2 Assimilated teaching fellowship, stipend and research assistantship\",\"6\":\"Tuition and Fees, Housing, Health Insurance\",\"7\":\"Partial tuition charges\",\"8\":\"Support for direct or indirect expenses\",\"9\":\"A variety of need-based scholarships\",\"10\":null,\"11\":null,\"12\":null,\"13\":null,\"14\":null,\"15\":null,\"16\":null,\"17\":null,\"18\":null,\"19\":null,\"20\":null,\"21\":null,\"22\":null,\"23\":null,\"24\":null,\"25\":null,\"26\":null,\"27\":null,\"28\":null,\"29\":null,\"30\":null,\"31\":null,\"32\":null,\"33\":null,\"34\":null,\"35\":null,\"36\":null,\"37\":null,\"38\":null,\"39\":null,\"40\":null,\"41\":null,\"42\":null,\"43\":null,\"44\":null,\"45\":null,\"46\":null,\"47\":null,\"48\":null,\"49\":null,\"50\":null,\"51\":null,\"52\":null,\"53\":null,\"54\":null,\"55\":null,\"56\":null,\"57\":null,\"58\":null,\"59\":null,\"60\":null,\"61\":null,\"62\":null,\"63\":null,\"64\":null,\"65\":null,\"66\":null,\"67\":null,\"68\":null,\"69\":null,\"70\":null,\"71\":null,\"72\":null,\"73\":null,\"74\":null,\"75\":null,\"76\":null,\"77\":null,\"78\":null,\"79\":null,\"80\":null,\"81\":null,\"82\":null,\"83\":null,\"84\":null,\"85\":null,\"86\":null,\"87\":null,\"88\":null,\"89\":null,\"90\":null,\"91\":null,\"92\":null,\"93\":null,\"94\":null,\"95\":null,\"96\":null,\"97\":null,\"98\":null,\"99\":null,\"100\":null,\"101\":null}}\n"
     ]
    }
   ],
   "source": [
    "json = combined_data.to_json()\n",
    "print(json)"
   ]
  },
  {
   "cell_type": "code",
   "execution_count": null,
   "id": "c6080795-5622-466e-a1cd-9ec021cc167d",
   "metadata": {},
   "outputs": [],
   "source": []
  }
 ],
 "metadata": {
  "kernelspec": {
   "display_name": "Python 3 (ipykernel)",
   "language": "python",
   "name": "python3"
  },
  "language_info": {
   "codemirror_mode": {
    "name": "ipython",
    "version": 3
   },
   "file_extension": ".py",
   "mimetype": "text/x-python",
   "name": "python",
   "nbconvert_exporter": "python",
   "pygments_lexer": "ipython3",
   "version": "3.8.0"
  }
 },
 "nbformat": 4,
 "nbformat_minor": 5
}
